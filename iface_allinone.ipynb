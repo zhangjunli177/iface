{
  "nbformat": 4,
  "nbformat_minor": 0,
  "metadata": {
    "colab": {
      "name": "iface_allinone.ipynb",
      "provenance": [],
      "collapsed_sections": [],
      "include_colab_link": true
    },
    "kernelspec": {
      "name": "python2",
      "display_name": "Python 2"
    },
    "accelerator": "GPU"
  },
  "cells": [
    {
      "cell_type": "markdown",
      "metadata": {
        "id": "view-in-github",
        "colab_type": "text"
      },
      "source": [
        "<a href=\"https://colab.research.google.com/github/zhangjunli177/iface/blob/master/iface_allinone.ipynb\" target=\"_parent\"><img src=\"https://colab.research.google.com/assets/colab-badge.svg\" alt=\"Open In Colab\"/></a>"
      ]
    },
    {
      "cell_type": "markdown",
      "metadata": {
        "id": "jEJK0gre4N0b",
        "colab_type": "text"
      },
      "source": [
        "# check system info\n",
        "\n",
        "\n",
        "1.   GPU info\n",
        "*   only one GPU available\n",
        "*   Tesla T4 with 14G memory or K80 with 11G memory\n",
        "2.   CPU info\n",
        "*   2 cpu cores\n",
        "3.   Mem\n",
        "*   13G memory\n",
        "4.   OS type\n",
        "*   Ubuntu18.04"
      ]
    },
    {
      "cell_type": "code",
      "metadata": {
        "id": "jMRY3Voc4X1k",
        "colab_type": "code",
        "colab": {}
      },
      "source": [
        "import tensorflow as tf\n",
        "tf.test.gpu_device_name()"
      ],
      "execution_count": 0,
      "outputs": []
    },
    {
      "cell_type": "code",
      "metadata": {
        "id": "OLj_jBtM4lKn",
        "colab_type": "code",
        "outputId": "8c368760-1ad7-465c-9951-3c48bae7eefa",
        "colab": {
          "base_uri": "https://localhost:8080/",
          "height": 476
        }
      },
      "source": [
        "from tensorflow.python.client import device_lib\n",
        "device_lib.list_local_devices()"
      ],
      "execution_count": 0,
      "outputs": [
        {
          "output_type": "execute_result",
          "data": {
            "text/plain": [
              "[name: \"/device:CPU:0\"\n",
              " device_type: \"CPU\"\n",
              " memory_limit: 268435456\n",
              " locality {\n",
              " }\n",
              " incarnation: 8230623175960726970, name: \"/device:XLA_CPU:0\"\n",
              " device_type: \"XLA_CPU\"\n",
              " memory_limit: 17179869184\n",
              " locality {\n",
              " }\n",
              " incarnation: 17899395443776635273\n",
              " physical_device_desc: \"device: XLA_CPU device\", name: \"/device:XLA_GPU:0\"\n",
              " device_type: \"XLA_GPU\"\n",
              " memory_limit: 17179869184\n",
              " locality {\n",
              " }\n",
              " incarnation: 9746863663817484761\n",
              " physical_device_desc: \"device: XLA_GPU device\", name: \"/device:GPU:0\"\n",
              " device_type: \"GPU\"\n",
              " memory_limit: 14892338381\n",
              " locality {\n",
              "   bus_id: 1\n",
              "   links {\n",
              "   }\n",
              " }\n",
              " incarnation: 12619045587520211634\n",
              " physical_device_desc: \"device: 0, name: Tesla T4, pci bus id: 0000:00:04.0, compute capability: 7.5\"]"
            ]
          },
          "metadata": {
            "tags": []
          },
          "execution_count": 1
        }
      ]
    },
    {
      "cell_type": "code",
      "metadata": {
        "id": "GRWRAezke7kq",
        "colab_type": "code",
        "outputId": "70c781ba-5322-4a22-9cf2-c49e28336410",
        "colab": {
          "base_uri": "https://localhost:8080/",
          "height": 289
        }
      },
      "source": [
        "!nvidia-smi"
      ],
      "execution_count": 0,
      "outputs": [
        {
          "output_type": "stream",
          "text": [
            "Mon Jul 15 02:35:21 2019       \n",
            "+-----------------------------------------------------------------------------+\n",
            "| NVIDIA-SMI 418.67       Driver Version: 410.79       CUDA Version: 10.0     |\n",
            "|-------------------------------+----------------------+----------------------+\n",
            "| GPU  Name        Persistence-M| Bus-Id        Disp.A | Volatile Uncorr. ECC |\n",
            "| Fan  Temp  Perf  Pwr:Usage/Cap|         Memory-Usage | GPU-Util  Compute M. |\n",
            "|===============================+======================+======================|\n",
            "|   0  Tesla T4            Off  | 00000000:00:04.0 Off |                    0 |\n",
            "| N/A   48C    P0    26W /  70W |    129MiB / 15079MiB |      0%      Default |\n",
            "+-------------------------------+----------------------+----------------------+\n",
            "                                                                               \n",
            "+-----------------------------------------------------------------------------+\n",
            "| Processes:                                                       GPU Memory |\n",
            "|  GPU       PID   Type   Process name                             Usage      |\n",
            "|=============================================================================|\n",
            "+-----------------------------------------------------------------------------+\n"
          ],
          "name": "stdout"
        }
      ]
    },
    {
      "cell_type": "code",
      "metadata": {
        "id": "pv7WpPCb5Rym",
        "colab_type": "code",
        "colab": {}
      },
      "source": [
        "!cat /proc/cpuinfo\n",
        "!cat /proc/meminfo"
      ],
      "execution_count": 0,
      "outputs": []
    },
    {
      "cell_type": "code",
      "metadata": {
        "id": "BJwg5HuB5uy_",
        "colab_type": "code",
        "colab": {}
      },
      "source": [
        "!cat /etc/lsb-release"
      ],
      "execution_count": 0,
      "outputs": []
    },
    {
      "cell_type": "markdown",
      "metadata": {
        "id": "lLi48-5c6UWK",
        "colab_type": "text"
      },
      "source": [
        "# Install the required packages\n",
        "\n",
        "\n",
        "1.   MxNet\n",
        "\n"
      ]
    },
    {
      "cell_type": "markdown",
      "metadata": {
        "id": "v55tQyMIqm-b",
        "colab_type": "text"
      },
      "source": [
        "Get the CUDA version, then install MxNet based on that"
      ]
    },
    {
      "cell_type": "code",
      "metadata": {
        "id": "u_W7ivLeqzNB",
        "colab_type": "code",
        "outputId": "a6a8ec06-3fab-49f0-f5fb-7db60f4f5634",
        "colab": {
          "base_uri": "https://localhost:8080/",
          "height": 173
        }
      },
      "source": [
        "! ls /usr/local/cuda*"
      ],
      "execution_count": 0,
      "outputs": [
        {
          "output_type": "stream",
          "text": [
            "/usr/local/cuda:\n",
            "bin\textras\t libnsight  NsightCompute-1.0  nvvm\tshare\t tools\n",
            "compat\tinclude  libnvvp    nsightee_plugins   README\tsrc\t version.txt\n",
            "doc\tlib64\t LICENSE    nvml\t       samples\ttargets\n",
            "\n",
            "/usr/local/cuda-10.0:\n",
            "bin\textras\t libnsight  NsightCompute-1.0  nvvm\tshare\t tools\n",
            "compat\tinclude  libnvvp    nsightee_plugins   README\tsrc\t version.txt\n",
            "doc\tlib64\t LICENSE    nvml\t       samples\ttargets\n"
          ],
          "name": "stdout"
        }
      ]
    },
    {
      "cell_type": "code",
      "metadata": {
        "id": "oXq2rZFYrJOK",
        "colab_type": "code",
        "outputId": "342d2a73-6138-48df-e58d-322dff8824b8",
        "colab": {
          "base_uri": "https://localhost:8080/",
          "height": 35
        }
      },
      "source": [
        "! ls -l /usr/local/cuda-10.0/lib64/libcudart.so"
      ],
      "execution_count": 0,
      "outputs": [
        {
          "output_type": "stream",
          "text": [
            "lrwxrwxrwx 1 root root 17 Sep 12  2018 /usr/local/cuda-10.0/lib64/libcudart.so -> libcudart.so.10.0\n"
          ],
          "name": "stdout"
        }
      ]
    },
    {
      "cell_type": "code",
      "metadata": {
        "id": "F33fTF7U6rna",
        "colab_type": "code",
        "outputId": "68a6ffb6-87b3-4b7a-ab5c-95a9d8d6a6fc",
        "colab": {
          "base_uri": "https://localhost:8080/",
          "height": 102
        }
      },
      "source": [
        "!pip install mxnet-cu100 --no-deps"
      ],
      "execution_count": 0,
      "outputs": [
        {
          "output_type": "stream",
          "text": [
            "Collecting mxnet-cu100\n",
            "\u001b[?25l  Downloading https://files.pythonhosted.org/packages/19/91/b5c2692297aa5b8c383e0da18f9208fc6d5519d981c03266abfbde897c41/mxnet_cu100-1.4.1-py2.py3-none-manylinux1_x86_64.whl (488.3MB)\n",
            "\u001b[K     |████████████████████████████████| 488.3MB 26kB/s \n",
            "\u001b[?25hInstalling collected packages: mxnet-cu100\n",
            "Successfully installed mxnet-cu100-1.4.1\n"
          ],
          "name": "stdout"
        }
      ]
    },
    {
      "cell_type": "markdown",
      "metadata": {
        "id": "6YuHGihQ62Kx",
        "colab_type": "text"
      },
      "source": [
        "# Mount GG driver\n",
        " your needs to go to the link to retrieve the authorization code. Then you are good to go!"
      ]
    },
    {
      "cell_type": "code",
      "metadata": {
        "id": "jqkTGp6gpGLw",
        "colab_type": "code",
        "outputId": "f0191c46-a3ef-4587-8939-acf53308cae9",
        "colab": {
          "base_uri": "https://localhost:8080/",
          "height": 122
        }
      },
      "source": [
        "from google.colab import drive\n",
        "drive.mount('/content/gdrive')"
      ],
      "execution_count": 0,
      "outputs": [
        {
          "output_type": "stream",
          "text": [
            "Go to this URL in a browser: https://accounts.google.com/o/oauth2/auth?client_id=947318989803-6bn6qk8qdgf4n4g3pfee6491hc0brc4i.apps.googleusercontent.com&redirect_uri=urn%3Aietf%3Awg%3Aoauth%3A2.0%3Aoob&scope=email%20https%3A%2F%2Fwww.googleapis.com%2Fauth%2Fdocs.test%20https%3A%2F%2Fwww.googleapis.com%2Fauth%2Fdrive%20https%3A%2F%2Fwww.googleapis.com%2Fauth%2Fdrive.photos.readonly%20https%3A%2F%2Fwww.googleapis.com%2Fauth%2Fpeopleapi.readonly&response_type=code\n",
            "\n",
            "Enter your authorization code:\n",
            "··········\n",
            "Mounted at /content/gdrive\n"
          ],
          "name": "stdout"
        }
      ]
    },
    {
      "cell_type": "code",
      "metadata": {
        "id": "iz5Ox79k8IWV",
        "colab_type": "code",
        "outputId": "e6e2a2b7-8edd-4f49-efbc-a750068d7043",
        "colab": {
          "base_uri": "https://localhost:8080/",
          "height": 34
        }
      },
      "source": [
        "iface_root = '/content/gdrive/My\\ Drive/DNN/InsightFace'\n",
        "!ls $iface_root"
      ],
      "execution_count": 0,
      "outputs": [
        {
          "output_type": "stream",
          "text": [
            "iface.ipynb  iface.zip\tmake_face_gallery.py  test_gallery.py\n"
          ],
          "name": "stdout"
        }
      ]
    },
    {
      "cell_type": "code",
      "metadata": {
        "id": "qgQ54i3Qi7bK",
        "colab_type": "code",
        "outputId": "a4f60d97-0330-45de-aeca-5efc08a63f27",
        "colab": {
          "base_uri": "https://localhost:8080/",
          "height": 34
        }
      },
      "source": [
        "iface_data = '/content/gdrive/My\\ Drive/DNN/iFaceData'\n",
        "!ls $iface_data"
      ],
      "execution_count": 0,
      "outputs": [
        {
          "output_type": "stream",
          "text": [
            "final  middle  raw\n"
          ],
          "name": "stdout"
        }
      ]
    },
    {
      "cell_type": "markdown",
      "metadata": {
        "id": "RZKPodoS32LW",
        "colab_type": "text"
      },
      "source": [
        "# download LFW data then copy to GG driver\n",
        "only download the data for the first time"
      ]
    },
    {
      "cell_type": "code",
      "metadata": {
        "id": "dpXt1YhD8qse",
        "colab_type": "code",
        "outputId": "a2b47bc5-5872-431d-dba0-0563369fe07c",
        "colab": {
          "base_uri": "https://localhost:8080/",
          "height": 208
        }
      },
      "source": [
        "!wget http://vis-www.cs.umass.edu/lfw/lfw-funneled.tgz"
      ],
      "execution_count": 0,
      "outputs": [
        {
          "output_type": "stream",
          "text": [
            "--2019-07-12 02:43:02--  http://vis-www.cs.umass.edu/lfw/lfw-funneled.tgz\n",
            "Resolving vis-www.cs.umass.edu (vis-www.cs.umass.edu)... 128.119.244.95\n",
            "Connecting to vis-www.cs.umass.edu (vis-www.cs.umass.edu)|128.119.244.95|:80... connected.\n",
            "HTTP request sent, awaiting response... 200 OK\n",
            "Length: 243346528 (232M) [application/x-gzip]\n",
            "Saving to: ‘lfw-funneled.tgz’\n",
            "\n",
            "lfw-funneled.tgz    100%[===================>] 232.07M  84.6MB/s    in 2.7s    \n",
            "\n",
            "2019-07-12 02:43:05 (84.6 MB/s) - ‘lfw-funneled.tgz’ saved [243346528/243346528]\n",
            "\n"
          ],
          "name": "stdout"
        }
      ]
    },
    {
      "cell_type": "code",
      "metadata": {
        "id": "1kIRz0Xp9bFT",
        "colab_type": "code",
        "colab": {}
      },
      "source": [
        "!mv lfw-funneled.tgz $iface_data/raw/"
      ],
      "execution_count": 0,
      "outputs": []
    },
    {
      "cell_type": "markdown",
      "metadata": {
        "id": "w4Xk7qFUx9UU",
        "colab_type": "text"
      },
      "source": [
        "# Copy files from GG driver to local"
      ]
    },
    {
      "cell_type": "code",
      "metadata": {
        "id": "u1m6PKZ78m9D",
        "colab_type": "code",
        "colab": {}
      },
      "source": [
        "!mkdir -p /content/iface\n",
        "!cp -r $iface_root/* /content/iface/"
      ],
      "execution_count": 0,
      "outputs": []
    },
    {
      "cell_type": "code",
      "metadata": {
        "id": "Dg3t3tJbcLr5",
        "colab_type": "code",
        "outputId": "309f289b-f35a-4ae6-9ac1-b086e13c9c21",
        "colab": {
          "base_uri": "https://localhost:8080/",
          "height": 34
        }
      },
      "source": [
        "cd /content/iface"
      ],
      "execution_count": 0,
      "outputs": [
        {
          "output_type": "stream",
          "text": [
            "/content/iface\n"
          ],
          "name": "stdout"
        }
      ]
    },
    {
      "cell_type": "code",
      "metadata": {
        "id": "rTnto7bKiy7a",
        "colab_type": "code",
        "colab": {}
      },
      "source": [
        "!unzip iface.zip"
      ],
      "execution_count": 0,
      "outputs": []
    },
    {
      "cell_type": "code",
      "metadata": {
        "id": "EFGVIMGXHETF",
        "colab_type": "code",
        "colab": {}
      },
      "source": [
        "!cp $iface_data/raw/* ."
      ],
      "execution_count": 0,
      "outputs": []
    },
    {
      "cell_type": "code",
      "metadata": {
        "id": "YGmsNw9_HLC_",
        "colab_type": "code",
        "colab": {}
      },
      "source": [
        "!tar zxvf lfw-funneled.tgz"
      ],
      "execution_count": 0,
      "outputs": []
    },
    {
      "cell_type": "code",
      "metadata": {
        "id": "sqmSaF4ecvQf",
        "colab_type": "code",
        "colab": {}
      },
      "source": [
        "!mv lfw_funneled/ /content/iface/insightface_for_face_recognition-master/dataset/\n"
      ],
      "execution_count": 0,
      "outputs": []
    },
    {
      "cell_type": "code",
      "metadata": {
        "id": "3zJQx13CH8rE",
        "colab_type": "code",
        "colab": {}
      },
      "source": [
        "!rm lfw-funneled.tgz"
      ],
      "execution_count": 0,
      "outputs": []
    },
    {
      "cell_type": "code",
      "metadata": {
        "id": "yWMDoowZxFUF",
        "colab_type": "code",
        "outputId": "bbe60d79-9496-4f74-d002-5ec5cf770270",
        "colab": {
          "base_uri": "https://localhost:8080/",
          "height": 35
        }
      },
      "source": [
        "!ls /content/iface/insightface_for_face_recognition-master/dataset/"
      ],
      "execution_count": 0,
      "outputs": [
        {
          "output_type": "stream",
          "text": [
            "lfw_funneled  train  train_valid.py  valid  程序说明.txt\n"
          ],
          "name": "stdout"
        }
      ]
    },
    {
      "cell_type": "markdown",
      "metadata": {
        "id": "19ws835ZllKq",
        "colab_type": "text"
      },
      "source": [
        "**NOTE：there's problem when do the aliagnment for Claudia_Pechstein, we need remove the dir.**\n",
        "\n",
        "\n",
        "```\n",
        "../dataset/lfw_funneled/Claudia_Pechstein/Claudia_Pechstein_0001.jpg\n",
        "ok2\n",
        "../dataset/lfw_funneled/Claudia_Pechstein/Claudia_Pechstein_0003.jpg\n",
        "ok2\n",
        "../dataset/lfw_funneled/Claudia_Pechstein/Claudia_Pechstein_0004.jpg\n",
        "ok2\n",
        "../dataset/lfw_funneled/Claudia_Pechstein/Claudia_Pechstein_0005.jpg\n",
        "ok2\n",
        "Traceback (most recent call last):\n",
        "  File \"get_face.py\", line 59, in <module>\n",
        "    new_image = np.transpose(out, (1, 2, 0))[:, :, ::-1]\n",
        "  File \"/usr/local/lib/python2.7/dist-packages/numpy/core/fromnumeric.py\", line 639, in transpose\n",
        "    return _wrapfunc(a, 'transpose', axes)\n",
        "  File \"/usr/local/lib/python2.7/dist-packages/numpy/core/fromnumeric.py\", line 66, in _wrapfunc\n",
        "    return _wrapit(obj, method, *args, **kwds)\n",
        "  File \"/usr/local/lib/python2.7/dist-packages/numpy/core/fromnumeric.py\", line 46, in _wrapit\n",
        "    result = getattr(asarray(obj), method)(*args, **kwds)\n",
        "ValueError: axes don't match array\n",
        "```\n",
        "\n"
      ]
    },
    {
      "cell_type": "code",
      "metadata": {
        "id": "KenD7AZzmS4T",
        "colab_type": "code",
        "colab": {}
      },
      "source": [
        "!rm -rf /content/iface/insightface_for_face_recognition-master/dataset/lfw_funneled/Claudia_Pechstein/"
      ],
      "execution_count": 0,
      "outputs": []
    },
    {
      "cell_type": "markdown",
      "metadata": {
        "id": "L5zxgorSzM0L",
        "colab_type": "text"
      },
      "source": [
        "# align the pictures in dataset\n",
        "we need run deploy/get_face.py to do the image alignment.<br>\n",
        "before run the script, we need create the directory to store the aligned picture.<br>\n",
        "After the alignment work done, we zip the images and ship to GG driver."
      ]
    },
    {
      "cell_type": "code",
      "metadata": {
        "id": "XBLQcNFnJ5Bd",
        "colab_type": "code",
        "colab": {}
      },
      "source": [
        "!mkdir /content/iface/insightface_for_face_recognition-master/dataset/lfw_funneled_aligned"
      ],
      "execution_count": 0,
      "outputs": []
    },
    {
      "cell_type": "code",
      "metadata": {
        "id": "izxtHUa7c4lO",
        "colab_type": "code",
        "outputId": "b50e27ab-c4f0-4d1d-8b09-6a3cc02aa022",
        "colab": {
          "base_uri": "https://localhost:8080/",
          "height": 35
        }
      },
      "source": [
        "cd /content/iface/insightface_for_face_recognition-master/deploy/"
      ],
      "execution_count": 0,
      "outputs": [
        {
          "output_type": "stream",
          "text": [
            "/content/iface/insightface_for_face_recognition-master/deploy\n"
          ],
          "name": "stdout"
        }
      ]
    },
    {
      "cell_type": "code",
      "metadata": {
        "id": "zjRM11VHc3Y7",
        "colab_type": "code",
        "outputId": "6459ea68-1e43-446e-f718-649013514528",
        "colab": {
          "base_uri": "https://localhost:8080/",
          "height": 121
        }
      },
      "source": [
        "ls"
      ],
      "execution_count": 0,
      "outputs": [
        {
          "output_type": "stream",
          "text": [
            "0_fn_0.jpg         face_model.pyc       helper.pyc          \u001b[0m\u001b[01;34m__pycache__\u001b[0m/\n",
            "benchmark.py       face_preprocess.py   \u001b[01;34mmodels\u001b[0m/             test.py\n",
            "face_embedding.py  face_preprocess.pyc  model_slim.py       Tom_Hanks_54745.png\n",
            "face_image.py      ga_merge.py          mtcnn_detector.py\n",
            "face_image.pyc     get_face.py          mtcnn_detector.pyc\n",
            "face_model.py      helper.py            \u001b[01;34mmtcnn-model\u001b[0m/\n"
          ],
          "name": "stdout"
        }
      ]
    },
    {
      "cell_type": "code",
      "metadata": {
        "id": "5cUzelcSKNSw",
        "colab_type": "code",
        "colab": {}
      },
      "source": [
        "!python get_face.py"
      ],
      "execution_count": 0,
      "outputs": []
    },
    {
      "cell_type": "code",
      "metadata": {
        "id": "tFQck6NtMz67",
        "colab_type": "code",
        "outputId": "135bedbd-4dbd-4c3f-9cd6-7531affee781",
        "colab": {
          "base_uri": "https://localhost:8080/",
          "height": 35
        }
      },
      "source": [
        "cd /content/iface/insightface_for_face_recognition-master/dataset/"
      ],
      "execution_count": 0,
      "outputs": [
        {
          "output_type": "stream",
          "text": [
            "/content/iface/insightface_for_face_recognition-master/dataset\n"
          ],
          "name": "stdout"
        }
      ]
    },
    {
      "cell_type": "code",
      "metadata": {
        "id": "LdaHcRrCqRw4",
        "colab_type": "code",
        "colab": {}
      },
      "source": [
        "!zip -r lfw_funneled_aligned.zip lfw_funneled_aligned"
      ],
      "execution_count": 0,
      "outputs": []
    },
    {
      "cell_type": "code",
      "metadata": {
        "id": "_Ax2TP8cnpRb",
        "colab_type": "code",
        "colab": {}
      },
      "source": [
        "!cp lfw_funneled_aligned.zip $iface_data/middle/"
      ],
      "execution_count": 0,
      "outputs": []
    },
    {
      "cell_type": "code",
      "metadata": {
        "id": "AyN7YKxIv-cP",
        "colab_type": "code",
        "colab": {}
      },
      "source": [
        "!rm /content/iface/insightface_for_face_recognition-master/dataset/lfw_funneled_aligned.zip\n",
        "!rm -r /content/iface/insightface_for_face_recognition-master/dataset/lfw_funneled_aligned/\n",
        "!rm -r /content/iface/insightface_for_face_recognition-master/dataset/lfw_funneled/"
      ],
      "execution_count": 0,
      "outputs": []
    },
    {
      "cell_type": "markdown",
      "metadata": {
        "id": "d-_YJD8wBm3Q",
        "colab_type": "text"
      },
      "source": [
        "# split the dataset to train, validate, and test\n",
        "run script dataset/train_valid.py to splite dataset to train, validate, and test with ratio 90:5:5<br>\n",
        "then tar those datasets and ship to GG drive"
      ]
    },
    {
      "cell_type": "code",
      "metadata": {
        "id": "TNi09S1uCiL0",
        "colab_type": "code",
        "outputId": "be1fb837-d10b-4a73-f3ff-1bf727583770",
        "colab": {
          "base_uri": "https://localhost:8080/",
          "height": 35
        }
      },
      "source": [
        "cd /content/iface/insightface_for_face_recognition-master/dataset/"
      ],
      "execution_count": 0,
      "outputs": [
        {
          "output_type": "stream",
          "text": [
            "/content/iface/insightface_for_face_recognition-master/dataset\n"
          ],
          "name": "stdout"
        }
      ]
    },
    {
      "cell_type": "code",
      "metadata": {
        "id": "GPPLsv9YweI5",
        "colab_type": "code",
        "colab": {}
      },
      "source": [
        "!cp $iface_data/middle/lfw_funneled_aligned.zip ."
      ],
      "execution_count": 0,
      "outputs": []
    },
    {
      "cell_type": "code",
      "metadata": {
        "id": "SYrGCsAEwnTz",
        "colab_type": "code",
        "colab": {}
      },
      "source": [
        "!unzip lfw_funneled_aligned.zip "
      ],
      "execution_count": 0,
      "outputs": []
    },
    {
      "cell_type": "code",
      "metadata": {
        "id": "bzY3ik2LCuyg",
        "colab_type": "code",
        "outputId": "d6ff755e-1313-4fe9-a430-680eb6fa71eb",
        "colab": {
          "base_uri": "https://localhost:8080/",
          "height": 52
        }
      },
      "source": [
        "ls"
      ],
      "execution_count": 0,
      "outputs": [
        {
          "output_type": "stream",
          "text": [
            "\u001b[0m\u001b[01;34mlfw_funneled_aligned\u001b[0m/     \u001b[01;34mtrain\u001b[0m/          \u001b[01;34mvalid\u001b[0m/\n",
            "lfw_funneled_aligned.zip  train_valid.py  程序说明.txt\n"
          ],
          "name": "stdout"
        }
      ]
    },
    {
      "cell_type": "code",
      "metadata": {
        "id": "GdN0nRunGqCS",
        "colab_type": "code",
        "colab": {}
      },
      "source": [
        "!python train_valid.py"
      ],
      "execution_count": 0,
      "outputs": []
    },
    {
      "cell_type": "code",
      "metadata": {
        "id": "JQpQb36zG4yg",
        "colab_type": "code",
        "outputId": "72b186b3-688f-4f16-ffe5-b46aa83e7e20",
        "colab": {
          "base_uri": "https://localhost:8080/",
          "height": 69
        }
      },
      "source": [
        "ls"
      ],
      "execution_count": 0,
      "outputs": [
        {
          "output_type": "stream",
          "text": [
            "\u001b[0m\u001b[01;34mimage_test\u001b[0m/   \u001b[01;34mlfw_funneled_aligned\u001b[0m/     train_valid.py\n",
            "\u001b[01;34mimage_train\u001b[0m/  lfw_funneled_aligned.zip  \u001b[01;34mvalid\u001b[0m/\n",
            "\u001b[01;34mimage_valid\u001b[0m/  \u001b[01;34mtrain\u001b[0m/                    程序说明.txt\n"
          ],
          "name": "stdout"
        }
      ]
    },
    {
      "cell_type": "code",
      "metadata": {
        "id": "Dm96uzYfG-jq",
        "colab_type": "code",
        "outputId": "b7f8e5bd-b780-403c-877c-8d97e91a08d2",
        "colab": {
          "base_uri": "https://localhost:8080/",
          "height": 173
        }
      },
      "source": [
        "!du -sh *"
      ],
      "execution_count": 0,
      "outputs": [
        {
          "output_type": "stream",
          "text": [
            "5.8M\timage_test\n",
            "114M\timage_train\n",
            "5.7M\timage_valid\n",
            "125M\tlfw_funneled_aligned\n",
            "67M\tlfw_funneled_aligned.zip\n",
            "8.0K\ttrain\n",
            "4.0K\ttrain_valid.py\n",
            "60K\tvalid\n",
            "4.0K\t程序说明.txt\n"
          ],
          "name": "stdout"
        }
      ]
    },
    {
      "cell_type": "code",
      "metadata": {
        "id": "ypvPaxDiIGBW",
        "colab_type": "code",
        "colab": {}
      },
      "source": [
        "!tar -zcvf image_test.tgz image_test/"
      ],
      "execution_count": 0,
      "outputs": []
    },
    {
      "cell_type": "code",
      "metadata": {
        "id": "uv5cqA4PiGDU",
        "colab_type": "code",
        "colab": {}
      },
      "source": [
        "!tar -zcvf image_train.tgz image_train/"
      ],
      "execution_count": 0,
      "outputs": []
    },
    {
      "cell_type": "code",
      "metadata": {
        "id": "47W2UUxHiaVy",
        "colab_type": "code",
        "colab": {}
      },
      "source": [
        "!tar -zcvf image_valid.tgz image_valid/"
      ],
      "execution_count": 0,
      "outputs": []
    },
    {
      "cell_type": "code",
      "metadata": {
        "id": "_I23TJMWioDZ",
        "colab_type": "code",
        "outputId": "d2ea8414-1a3f-405e-95a8-3e3fafe0ce9a",
        "colab": {
          "base_uri": "https://localhost:8080/",
          "height": 69
        }
      },
      "source": [
        "ls"
      ],
      "execution_count": 0,
      "outputs": [
        {
          "output_type": "stream",
          "text": [
            "\u001b[0m\u001b[01;34mimage_test\u001b[0m/     image_train.tgz  \u001b[01;34mlfw_funneled_aligned\u001b[0m/     train_valid.py\n",
            "image_test.tgz  \u001b[01;34mimage_valid\u001b[0m/     lfw_funneled_aligned.zip  \u001b[01;34mvalid\u001b[0m/\n",
            "\u001b[01;34mimage_train\u001b[0m/    image_valid.tgz  \u001b[01;34mtrain\u001b[0m/                    程序说明.txt\n"
          ],
          "name": "stdout"
        }
      ]
    },
    {
      "cell_type": "code",
      "metadata": {
        "id": "YfkuW3djitKD",
        "colab_type": "code",
        "colab": {}
      },
      "source": [
        "!cp *tgz $iface_data/middle/"
      ],
      "execution_count": 0,
      "outputs": []
    },
    {
      "cell_type": "code",
      "metadata": {
        "id": "5nH1WtUHMWaG",
        "colab_type": "code",
        "outputId": "23562f13-8f07-47e1-e7d3-01bdc024d984",
        "colab": {
          "base_uri": "https://localhost:8080/",
          "height": 35
        }
      },
      "source": [
        "!ls $iface_data/middle/"
      ],
      "execution_count": 0,
      "outputs": [
        {
          "output_type": "stream",
          "text": [
            "image_test.tgz\timage_train.tgz  image_valid.tgz  lfw_funneled_aligned.zip\n"
          ],
          "name": "stdout"
        }
      ]
    },
    {
      "cell_type": "markdown",
      "metadata": {
        "id": "GWLh4OaHlEmC",
        "colab_type": "text"
      },
      "source": [
        "# Generate list file and train.rec"
      ]
    },
    {
      "cell_type": "code",
      "metadata": {
        "id": "crVwntCPs-Mt",
        "colab_type": "code",
        "outputId": "4a175619-828a-4740-f533-b2ab20df62e5",
        "colab": {
          "base_uri": "https://localhost:8080/",
          "height": 35
        }
      },
      "source": [
        "cd /content/iface/insightface_for_face_recognition-master/make_rec/"
      ],
      "execution_count": 0,
      "outputs": [
        {
          "output_type": "stream",
          "text": [
            "/content/iface/insightface_for_face_recognition-master/make_rec\n"
          ],
          "name": "stdout"
        }
      ]
    },
    {
      "cell_type": "markdown",
      "metadata": {
        "id": "PycNKJkOEmTf",
        "colab_type": "text"
      },
      "source": [
        "**parameters of scripts im2rec_my.py to generate list file** <br>\n",
        "\n",
        "> --list, generate list <br>\n",
        "--recursive, include the subdir <br>\n",
        "list file name <br>\n",
        "dir of images <br>"
      ]
    },
    {
      "cell_type": "code",
      "metadata": {
        "id": "liXNPlppyuS2",
        "colab_type": "code",
        "colab": {}
      },
      "source": [
        "!python im2rec_my.py  --list --recursive ../dataset/train/train_list  ../dataset/image_train/"
      ],
      "execution_count": 0,
      "outputs": []
    },
    {
      "cell_type": "code",
      "metadata": {
        "id": "d0f2zkPWz6SF",
        "colab_type": "code",
        "outputId": "eca2b8d2-f1d2-40a8-e149-a8df4028c735",
        "colab": {
          "base_uri": "https://localhost:8080/",
          "height": 69
        }
      },
      "source": [
        "ll ../dataset/train"
      ],
      "execution_count": 0,
      "outputs": [
        {
          "output_type": "stream",
          "text": [
            "total 484\n",
            "-rw-rw-r-- 1 root     13 Jun 29 05:34 property\n",
            "-rw-r--r-- 1 root 489019 Jul 12 07:30 train_list.lst\n"
          ],
          "name": "stdout"
        }
      ]
    },
    {
      "cell_type": "markdown",
      "metadata": {
        "id": "LnL3770UF7iE",
        "colab_type": "text"
      },
      "source": [
        "**parameters of scripts im2rec_my.py to generate train.rec**<br>\n",
        ">location of list file (don't include file extension .lst)<br>\n",
        "dir of images <br>"
      ]
    },
    {
      "cell_type": "code",
      "metadata": {
        "id": "Un0OA_dhF6Lb",
        "colab_type": "code",
        "outputId": "b5bd0844-f8a6-4e6d-a1ef-bfc649287a1a",
        "colab": {
          "base_uri": "https://localhost:8080/",
          "height": 315
        }
      },
      "source": [
        "!python im2rec_my.py ../dataset/train/train_list ../dataset/image_train/"
      ],
      "execution_count": 0,
      "outputs": [
        {
          "output_type": "stream",
          "text": [
            "/content/iface/insightface_for_face_recognition-master/dataset/train/train_list\n",
            "Creating .rec file from /content/iface/insightface_for_face_recognition-master/dataset/train/train_list.lst in /content/iface/insightface_for_face_recognition-master/dataset/train\n",
            "multiprocessing not available, fall back to single threaded encoding\n",
            "time: 0.00140285491943  count: 0\n",
            "time: 0.619565963745  count: 1000\n",
            "time: 0.630924224854  count: 2000\n",
            "time: 0.623623847961  count: 3000\n",
            "time: 0.618852138519  count: 4000\n",
            "time: 0.63049697876  count: 5000\n",
            "time: 0.6169090271  count: 6000\n",
            "time: 0.628759860992  count: 7000\n",
            "time: 0.627771139145  count: 8000\n",
            "time: 0.636969804764  count: 9000\n",
            "time: 0.612210988998  count: 10000\n",
            "time: 0.61683511734  count: 11000\n",
            "time: 0.607021093369  count: 12000\n"
          ],
          "name": "stdout"
        }
      ]
    },
    {
      "cell_type": "code",
      "metadata": {
        "id": "lsr5KOfhG8WY",
        "colab_type": "code",
        "outputId": "03c82b80-3334-438f-a2e7-b3fbce8e5c23",
        "colab": {
          "base_uri": "https://localhost:8080/",
          "height": 35
        }
      },
      "source": [
        "ls ../dataset/train/"
      ],
      "execution_count": 0,
      "outputs": [
        {
          "output_type": "stream",
          "text": [
            "property  train_list.idx  train_list.lst  train_list.rec\n"
          ],
          "name": "stdout"
        }
      ]
    },
    {
      "cell_type": "code",
      "metadata": {
        "id": "Gy_o18_q1hmK",
        "colab_type": "code",
        "colab": {}
      },
      "source": [
        "!cp ../dataset/train/train_list.* $iface_data/middle/"
      ],
      "execution_count": 0,
      "outputs": []
    },
    {
      "cell_type": "markdown",
      "metadata": {
        "id": "WiYtL5u02L4z",
        "colab_type": "text"
      },
      "source": [
        "# generate valid bin"
      ]
    },
    {
      "cell_type": "code",
      "metadata": {
        "id": "MLL4PSCA2kYG",
        "colab_type": "code",
        "outputId": "f76a1b10-b2d0-464b-d3d7-f118c51dbd0c",
        "colab": {
          "base_uri": "https://localhost:8080/",
          "height": 35
        }
      },
      "source": [
        "cd /content/iface/insightface_for_face_recognition-master/make_rec/"
      ],
      "execution_count": 0,
      "outputs": [
        {
          "output_type": "stream",
          "text": [
            "/content/iface/insightface_for_face_recognition-master/make_rec\n"
          ],
          "name": "stdout"
        }
      ]
    },
    {
      "cell_type": "markdown",
      "metadata": {
        "id": "RqVpA03vQGcb",
        "colab_type": "text"
      },
      "source": [
        "**call gen_pair_rev.py to generate valid.txt**<br>\n",
        ">valid.txt contain the image pair of same and different person.<br>\n",
        "It reads images from dataset/image_valid, <br>\n",
        "the valid.txt will be stored in dataset/valid"
      ]
    },
    {
      "cell_type": "code",
      "metadata": {
        "id": "xxmWocDM4GJY",
        "colab_type": "code",
        "outputId": "2e679aff-4773-4b4e-9ac8-802abacd8c79",
        "colab": {
          "base_uri": "https://localhost:8080/",
          "height": 52
        }
      },
      "source": [
        "!python gen_pair_rev.py"
      ],
      "execution_count": 0,
      "outputs": [
        {
          "output_type": "stream",
          "text": [
            "589\n",
            "589\n"
          ],
          "name": "stdout"
        }
      ]
    },
    {
      "cell_type": "code",
      "metadata": {
        "id": "V38gY958lOrZ",
        "colab_type": "code",
        "colab": {}
      },
      "source": [
        "!cp ../dataset/valid/valid.txt $iface_data/middle/"
      ],
      "execution_count": 0,
      "outputs": []
    },
    {
      "cell_type": "code",
      "metadata": {
        "id": "ZiI5m1e4rVgo",
        "colab_type": "code",
        "outputId": "46d98cb4-4129-492a-a514-04602d01e739",
        "colab": {
          "base_uri": "https://localhost:8080/",
          "height": 35
        }
      },
      "source": [
        "!more ../dataset/valid/valid.txt | wc"
      ],
      "execution_count": 0,
      "outputs": [
        {
          "output_type": "stream",
          "text": [
            "   3470    6940  319029\n"
          ],
          "name": "stdout"
        }
      ]
    },
    {
      "cell_type": "markdown",
      "metadata": {
        "id": "XAxV8C_AcEGV",
        "colab_type": "text"
      },
      "source": [
        "**We need modify the make_rec/make_valid_bin.py based on the generated valid.txt**<br>\n",
        "then ship to local"
      ]
    },
    {
      "cell_type": "code",
      "metadata": {
        "id": "az7ZKiIEk_Q_",
        "colab_type": "code",
        "colab": {}
      },
      "source": [
        "!cp $iface_data/middle/make_valid_bin.py /content/iface/insightface_for_face_recognition-master/make_rec/"
      ],
      "execution_count": 0,
      "outputs": []
    },
    {
      "cell_type": "code",
      "metadata": {
        "id": "FMbEKOGGccfe",
        "colab_type": "code",
        "colab": {}
      },
      "source": [
        "more make_valid_bin.py"
      ],
      "execution_count": 0,
      "outputs": []
    },
    {
      "cell_type": "code",
      "metadata": {
        "id": "ylETsd1KDXpi",
        "colab_type": "code",
        "outputId": "a52ff2a9-85a5-4029-874a-62f79cf2095e",
        "colab": {
          "base_uri": "https://localhost:8080/",
          "height": 35
        }
      },
      "source": [
        "!python make_valid_bin.py --data-dir '../dataset/image_valid/' --output ../dataset/train/valid.bin --txtfile ../dataset/valid/valid.txt"
      ],
      "execution_count": 0,
      "outputs": [
        {
          "output_type": "stream",
          "text": [
            "../dataset/image_valid/Horst_Koehler/89.jpg\n"
          ],
          "name": "stdout"
        }
      ]
    },
    {
      "cell_type": "code",
      "metadata": {
        "id": "FDrapQA9TFbg",
        "colab_type": "code",
        "outputId": "622034ad-bfd6-45fb-b270-fdbde8ecca0d",
        "colab": {
          "base_uri": "https://localhost:8080/",
          "height": 35
        }
      },
      "source": [
        "!ls -l ../dataset/train/valid.bin"
      ],
      "execution_count": 0,
      "outputs": [
        {
          "output_type": "stream",
          "text": [
            "-rw-r--r-- 1 root root 35077626 Jul 12 09:11 ../dataset/train/valid.bin\n"
          ],
          "name": "stdout"
        }
      ]
    },
    {
      "cell_type": "code",
      "metadata": {
        "id": "kTVur6H7l690",
        "colab_type": "code",
        "colab": {}
      },
      "source": [
        "!cp ../dataset/train/valid.bin $iface_data/middle/"
      ],
      "execution_count": 0,
      "outputs": []
    },
    {
      "cell_type": "markdown",
      "metadata": {
        "id": "OtBIgSwwUcTN",
        "colab_type": "text"
      },
      "source": [
        "# Trainning data"
      ]
    },
    {
      "cell_type": "markdown",
      "metadata": {
        "id": "0lpXSsqqIVt2",
        "colab_type": "text"
      },
      "source": [
        "**copy the stored model into dir models**"
      ]
    },
    {
      "cell_type": "code",
      "metadata": {
        "id": "7G0w66trLoFP",
        "colab_type": "code",
        "colab": {}
      },
      "source": [
        "!mkdir /content/iface/insightface_for_face_recognition-master/models"
      ],
      "execution_count": 0,
      "outputs": []
    },
    {
      "cell_type": "code",
      "metadata": {
        "id": "GYL8MC7TU6bu",
        "colab_type": "code",
        "colab": {}
      },
      "source": [
        "!cp $iface_data/final/my_model/-0011.params /content/iface/insightface_for_face_recognition-master/models/iface-0011.params\n",
        "!cp $iface_data/final/my_model/-symbol.json /content/iface/insightface_for_face_recognition-master/models/iface-symbol.json"
      ],
      "execution_count": 0,
      "outputs": []
    },
    {
      "cell_type": "code",
      "metadata": {
        "id": "tquiTIkaHujs",
        "colab_type": "code",
        "colab": {}
      },
      "source": [
        "!cp $iface_data/middle/image_train.tgz /content/iface/insightface_for_face_recognition-master/dataset/"
      ],
      "execution_count": 0,
      "outputs": []
    },
    {
      "cell_type": "code",
      "metadata": {
        "id": "zJKt6bbBIP-g",
        "colab_type": "code",
        "outputId": "aa520474-7bff-4800-af5d-f594c5022123",
        "colab": {
          "base_uri": "https://localhost:8080/",
          "height": 35
        }
      },
      "source": [
        "cd /content/iface/insightface_for_face_recognition-master/dataset/"
      ],
      "execution_count": 0,
      "outputs": [
        {
          "output_type": "stream",
          "text": [
            "/content/iface/insightface_for_face_recognition-master/dataset\n"
          ],
          "name": "stdout"
        }
      ]
    },
    {
      "cell_type": "code",
      "metadata": {
        "id": "fua3xog4IjxI",
        "colab_type": "code",
        "colab": {}
      },
      "source": [
        "!tar zxvf image_train.tgz"
      ],
      "execution_count": 0,
      "outputs": []
    },
    {
      "cell_type": "markdown",
      "metadata": {
        "id": "qrfgOnMoI8o9",
        "colab_type": "text"
      },
      "source": [
        "**calculate how many person in the train dataset**<br>\n",
        "we need make sure it's same as the number in file property"
      ]
    },
    {
      "cell_type": "code",
      "metadata": {
        "id": "bSQc8xmGIwx_",
        "colab_type": "code",
        "outputId": "7d293fe2-9479-4f7e-b787-b18366f7e43b",
        "colab": {
          "base_uri": "https://localhost:8080/",
          "height": 35
        }
      },
      "source": [
        "ls image_train/ | wc"
      ],
      "execution_count": 0,
      "outputs": [
        {
          "output_type": "stream",
          "text": [
            "   5188    5188  142435\n"
          ],
          "name": "stdout"
        }
      ]
    },
    {
      "cell_type": "code",
      "metadata": {
        "id": "qI2AFbyTJLZs",
        "colab_type": "code",
        "colab": {}
      },
      "source": [
        "!cp train/property image_train/"
      ],
      "execution_count": 0,
      "outputs": []
    },
    {
      "cell_type": "code",
      "metadata": {
        "id": "39hZ4lWmJblP",
        "colab_type": "code",
        "outputId": "b6e9c65b-cdf4-4ab3-c36a-1b17659ba5d8",
        "colab": {
          "base_uri": "https://localhost:8080/",
          "height": 35
        }
      },
      "source": [
        "!more image_train/property"
      ],
      "execution_count": 0,
      "outputs": [
        {
          "output_type": "stream",
          "text": [
            "5188,112,112\n"
          ],
          "name": "stdout"
        }
      ]
    },
    {
      "cell_type": "code",
      "metadata": {
        "id": "9ogpj-9NwFzP",
        "colab_type": "code",
        "colab": {}
      },
      "source": [
        "!cp $iface_data/middle/train_list.rec /content/iface/insightface_for_face_recognition-master/dataset/image_train/train.rec"
      ],
      "execution_count": 0,
      "outputs": []
    },
    {
      "cell_type": "code",
      "metadata": {
        "id": "Vc0vCqZL1spG",
        "colab_type": "code",
        "colab": {}
      },
      "source": [
        "!cp $iface_data/middle/train_list.idx /content/iface/insightface_for_face_recognition-master/dataset/image_train/train.idx"
      ],
      "execution_count": 0,
      "outputs": []
    },
    {
      "cell_type": "code",
      "metadata": {
        "id": "AhoQ8Jg4J5Sa",
        "colab_type": "code",
        "colab": {}
      },
      "source": [
        "!cp $iface_data/middle/valid.bin /content/iface/insightface_for_face_recognition-master/dataset/image_train/"
      ],
      "execution_count": 0,
      "outputs": []
    },
    {
      "cell_type": "code",
      "metadata": {
        "id": "HlFA2yachGYo",
        "colab_type": "code",
        "colab": {}
      },
      "source": [
        "more /content/iface/insightface_for_face_recognition-master/train/train_softmax_my.py"
      ],
      "execution_count": 0,
      "outputs": []
    },
    {
      "cell_type": "code",
      "metadata": {
        "id": "WQuCgQ6eRCH9",
        "colab_type": "code",
        "outputId": "06e50757-578c-4ecb-89ff-7bdcea5fe960",
        "colab": {
          "base_uri": "https://localhost:8080/",
          "height": 35
        }
      },
      "source": [
        "cd /content/iface/insightface_for_face_recognition-master/train/"
      ],
      "execution_count": 0,
      "outputs": [
        {
          "output_type": "stream",
          "text": [
            "/content/iface/insightface_for_face_recognition-master/train\n"
          ],
          "name": "stdout"
        }
      ]
    },
    {
      "cell_type": "code",
      "metadata": {
        "id": "w7bSGZ0o0fhv",
        "colab_type": "code",
        "outputId": "fb0a30f7-ac96-47e1-9987-95e517290fd0",
        "colab": {
          "base_uri": "https://localhost:8080/",
          "height": 35
        }
      },
      "source": [
        "%env CUDA_VISIBLE_DEVICES=0"
      ],
      "execution_count": 0,
      "outputs": [
        {
          "output_type": "stream",
          "text": [
            "env: CUDA_VISIBLE_DEVICES=0\n"
          ],
          "name": "stdout"
        }
      ]
    },
    {
      "cell_type": "code",
      "metadata": {
        "id": "jON660FBq3h7",
        "colab_type": "code",
        "outputId": "e1e2e499-e64d-4150-b806-5153101ec08a",
        "colab": {
          "base_uri": "https://localhost:8080/",
          "height": 1000
        }
      },
      "source": [
        "!python -u  train_softmax_my.py --prefix ../my_model/iface --pretrained ../models/iface,0011 --loss-type 4 --margin-m 0.1 --data-dir ../dataset/image_train --per-batch-size 128 --version-se 1 --verbose 1000 --target valid --margin-s 64 --emb-size 512 --ckpt 2 --lr 0.001"
      ],
      "execution_count": 0,
      "outputs": [
        {
          "output_type": "stream",
          "text": [
            "gpu num: 1\n",
            "num_layers 50\n",
            "data_dir_list:  ['../dataset/image_train']\n",
            "image_size [112, 112]\n",
            "num_classes:  5188\n",
            "***Called with argument: Namespace(batch_size=128, beta=1000.0, beta_freeze=0, beta_min=5.0, bn_mom=0.9, ckpt=2, ctx_num=1, cutoff=0, data_dir='../dataset/image_train', easy_margin=0, emb_size=512, end_epoch=100000, fc7_lr_mult=1.0, fc7_wd_mult=1.0, gamma=0.12, image_channel=3, image_h=112, image_w=112, loss_type=4, lr=0.001, lr_steps='', margin=4, margin_a=1.0, margin_b=0.0, margin_m=0.1, margin_s=64.0, max_steps=0, mom=0.9, network='r50', num_classes=5188, num_layers=50, per_batch_size=128, power=1.0, prefix='../my_model/iface', pretrained='../models/iface,0011', rand_mirror=1, rescale_threshold=0, scale=0.9993, target='valid', use_deformable=0, verbose=1000, version_act='prelu', version_input=1, version_output='E', version_se=1, version_unit=3, wd=0.0005)\n",
            "***loading ['../models/iface', '0011']\n",
            "***network:  r50\n",
            "init resnet, 层数:  50\n",
            "1 1 E 3 prelu\n",
            "loading  ../dataset/image_train/train.rec\n",
            "INFO:root:loading recordio ../dataset/image_train/train.rec...\n",
            "12042\n",
            "rand_mirror 1\n",
            "target-jjz: ../dataset/image_train/valid.bin\n",
            "loading bin 0\n",
            "loading bin 1000\n",
            "loading bin 2000\n",
            "loading bin 3000\n",
            "loading bin 4000\n",
            "loading bin 5000\n",
            "loading bin 6000\n",
            "ver valid\n",
            "lr_steps [100000, 140000, 160000]\n",
            "call reset()\n",
            "/usr/local/lib/python2.7/dist-packages/mxnet/module/base_module.py:505: UserWarning: Optimizer created manually outside Module but rescale_grad is not normalized to 1.0/batch_size/num_workers (1.0 vs. 0.0078125). Is this intended?\n",
            "  optimizer_params=optimizer_params)\n",
            "[13:09:19] src/operator/nn/./cudnn/./cudnn_algoreg-inl.h:97: Running performance tests to find the best convolution algorithm, this can take a while... (setting env variable MXNET_CUDNN_AUTOTUNE_DEFAULT to 0 to disable)\n",
            "lr-batch-epoch: 0.001 0 0\n",
            "testing verification..\n",
            "infer time 38.933004\n",
            "1.33\n",
            "1.35\n",
            "1.3800000000000001\n",
            "1.3800000000000001\n",
            "1.3800000000000001\n",
            "1.3800000000000001\n",
            "1.3800000000000001\n",
            "1.3800000000000001\n",
            "1.44\n",
            "1.3800000000000001\n",
            "[valid][0]XNorm: 22.220750\n",
            "[valid][0]Accuracy-Flip: 0.98646+-0.02126\n",
            "[0.9864553314121037]\n",
            "jjz1-saving: False\n",
            "jjz1-ckpt: 2\n",
            "jjz2-saving: True\n",
            "saving 1\n",
            "INFO:root:Saved checkpoint to \"../my_model/iface-0001.params\"\n",
            "[0]Accuracy-Highest: 0.98646\n",
            "INFO:root:Epoch[0] Batch [0-64]\tSpeed: 59.39 samples/sec\tacc=0.055168\n",
            "INFO:root:Epoch[0] Train-acc=0.075133\n",
            "INFO:root:Epoch[0] Time cost=186.818\n",
            "call reset()\n",
            "INFO:root:Epoch[1] Batch [0-64]\tSpeed: 84.00 samples/sec\tacc=0.188942\n",
            "INFO:root:Epoch[1] Train-acc=0.199385\n",
            "INFO:root:Epoch[1] Time cost=143.054\n",
            "call reset()\n",
            "INFO:root:Epoch[2] Batch [0-64]\tSpeed: 84.12 samples/sec\tacc=0.320553\n",
            "INFO:root:Epoch[2] Train-acc=0.323055\n",
            "INFO:root:Epoch[2] Time cost=142.863\n",
            "call reset()\n",
            "INFO:root:Epoch[3] Batch [0-64]\tSpeed: 84.13 samples/sec\tacc=0.471635\n",
            "INFO:root:Epoch[3] Train-acc=0.466506\n",
            "INFO:root:Epoch[3] Time cost=142.862\n",
            "call reset()\n",
            "INFO:root:Epoch[4] Batch [0-64]\tSpeed: 83.98 samples/sec\tacc=0.684014\n",
            "INFO:root:Epoch[4] Train-acc=0.674119\n",
            "INFO:root:Epoch[4] Time cost=143.124\n",
            "call reset()\n",
            "INFO:root:Epoch[5] Batch [0-64]\tSpeed: 84.18 samples/sec\tacc=0.851442\n",
            "INFO:root:Epoch[5] Train-acc=0.848155\n",
            "INFO:root:Epoch[5] Time cost=142.908\n",
            "call reset()\n",
            "INFO:root:Epoch[6] Batch [0-64]\tSpeed: 84.20 samples/sec\tacc=0.932212\n",
            "INFO:root:Epoch[6] Train-acc=0.930851\n",
            "INFO:root:Epoch[6] Time cost=142.738\n",
            "call reset()\n",
            "INFO:root:Epoch[7] Batch [0-64]\tSpeed: 84.16 samples/sec\tacc=0.963942\n",
            "INFO:root:Epoch[7] Train-acc=0.966423\n",
            "INFO:root:Epoch[7] Time cost=142.852\n",
            "call reset()\n",
            "INFO:root:Epoch[8] Batch [0-64]\tSpeed: 84.07 samples/sec\tacc=0.979688\n",
            "INFO:root:Epoch[8] Train-acc=0.981217\n",
            "INFO:root:Epoch[8] Time cost=142.897\n",
            "call reset()\n",
            "INFO:root:Epoch[9] Batch [0-64]\tSpeed: 84.10 samples/sec\tacc=0.993029\n",
            "INFO:root:Epoch[9] Train-acc=0.991855\n",
            "INFO:root:Epoch[9] Time cost=142.916\n",
            "call reset()\n",
            "lr-batch-epoch: 0.001 60 10\n",
            "testing verification..\n",
            "infer time 38.068678\n",
            "1.6\n",
            "1.6\n",
            "1.6\n",
            "1.6\n",
            "1.6\n",
            "1.68\n",
            "1.68\n",
            "1.68\n",
            "1.68\n",
            "1.68\n",
            "[valid][1000]XNorm: 20.611153\n",
            "[valid][1000]Accuracy-Flip: 0.91182+-0.04304\n",
            "[0.9118155619596541]\n",
            "jjz1-saving: False\n",
            "jjz1-ckpt: 2\n",
            "jjz2-saving: True\n",
            "saving 2\n",
            "INFO:root:Saved checkpoint to \"../my_model/iface-0002.params\"\n",
            "[1000]Accuracy-Highest: 0.98646\n",
            "INFO:root:Epoch[10] Batch [0-64]\tSpeed: 59.83 samples/sec\tacc=0.995553\n",
            "INFO:root:Epoch[10] Train-acc=0.995512\n",
            "INFO:root:Epoch[10] Time cost=182.543\n",
            "call reset()\n",
            "INFO:root:Epoch[11] Batch [0-64]\tSpeed: 84.21 samples/sec\tacc=0.997837\n",
            "INFO:root:Epoch[11] Train-acc=0.998172\n",
            "INFO:root:Epoch[11] Time cost=142.832\n",
            "call reset()\n",
            "INFO:root:Epoch[12] Batch [0-64]\tSpeed: 84.11 samples/sec\tacc=0.999399\n",
            "INFO:root:Epoch[12] Train-acc=0.999252\n",
            "INFO:root:Epoch[12] Time cost=142.980\n",
            "call reset()\n",
            "INFO:root:Epoch[13] Batch [0-64]\tSpeed: 84.07 samples/sec\tacc=0.999038\n",
            "INFO:root:Epoch[13] Train-acc=0.999086\n",
            "INFO:root:Epoch[13] Time cost=142.829\n",
            "call reset()\n",
            "INFO:root:Epoch[14] Batch [0-64]\tSpeed: 84.10 samples/sec\tacc=0.999880\n",
            "INFO:root:Epoch[14] Train-acc=0.999834\n",
            "INFO:root:Epoch[14] Time cost=142.851\n",
            "call reset()\n",
            "INFO:root:Epoch[15] Batch [0-64]\tSpeed: 84.08 samples/sec\tacc=0.999639\n",
            "INFO:root:Epoch[15] Train-acc=0.999584\n",
            "INFO:root:Epoch[15] Time cost=142.982\n",
            "call reset()\n",
            "INFO:root:Epoch[16] Batch [0-64]\tSpeed: 84.10 samples/sec\tacc=0.999760\n",
            "INFO:root:Epoch[16] Train-acc=0.999834\n",
            "INFO:root:Epoch[16] Time cost=142.948\n",
            "call reset()\n",
            "INFO:root:Epoch[17] Batch [0-64]\tSpeed: 84.18 samples/sec\tacc=0.999880\n",
            "INFO:root:Epoch[17] Train-acc=0.999917\n",
            "INFO:root:Epoch[17] Time cost=142.834\n",
            "call reset()\n",
            "INFO:root:Epoch[18] Batch [0-64]\tSpeed: 84.14 samples/sec\tacc=0.999760\n",
            "INFO:root:Epoch[18] Train-acc=0.999751\n",
            "INFO:root:Epoch[18] Time cost=142.750\n",
            "call reset()\n",
            "INFO:root:Epoch[19] Batch [0-64]\tSpeed: 84.11 samples/sec\tacc=0.999760\n",
            "INFO:root:Epoch[19] Train-acc=0.999834\n",
            "INFO:root:Epoch[19] Time cost=142.945\n",
            "call reset()\n",
            "INFO:root:Epoch[20] Batch [0-64]\tSpeed: 84.08 samples/sec\tacc=1.000000\n",
            "INFO:root:Epoch[20] Train-acc=0.999917\n",
            "INFO:root:Epoch[20] Time cost=142.877\n",
            "call reset()\n",
            "lr-batch-epoch: 0.001 26 21\n",
            "testing verification..\n",
            "infer time 38.112964\n",
            "1.6300000000000001\n",
            "1.6300000000000001\n",
            "1.62\n",
            "1.6400000000000001\n",
            "1.6\n",
            "1.69\n",
            "1.6600000000000001\n",
            "1.6600000000000001\n",
            "1.6600000000000001\n",
            "1.69\n",
            "[valid][2000]XNorm: 20.713265\n",
            "[valid][2000]Accuracy-Flip: 0.92305+-0.04150\n",
            "[0.9230547550432278]\n",
            "jjz1-saving: False\n",
            "jjz1-ckpt: 2\n",
            "jjz2-saving: True\n",
            "saving 3\n",
            "INFO:root:Saved checkpoint to \"../my_model/iface-0003.params\"\n",
            "[2000]Accuracy-Highest: 0.98646\n",
            "INFO:root:Epoch[21] Batch [0-64]\tSpeed: 59.77 samples/sec\tacc=0.999880\n",
            "INFO:root:Epoch[21] Train-acc=0.999834\n",
            "INFO:root:Epoch[21] Time cost=182.580\n",
            "call reset()\n",
            "INFO:root:Epoch[22] Batch [0-64]\tSpeed: 84.12 samples/sec\tacc=0.999880\n",
            "INFO:root:Epoch[22] Train-acc=0.999834\n",
            "INFO:root:Epoch[22] Time cost=142.993\n",
            "call reset()\n",
            "INFO:root:Epoch[23] Batch [0-64]\tSpeed: 84.19 samples/sec\tacc=0.999880\n",
            "INFO:root:Epoch[23] Train-acc=0.999834\n",
            "INFO:root:Epoch[23] Time cost=142.819\n",
            "call reset()\n",
            "INFO:root:Epoch[24] Batch [0-64]\tSpeed: 84.14 samples/sec\tacc=0.999880\n",
            "INFO:root:Epoch[24] Train-acc=0.999834\n",
            "INFO:root:Epoch[24] Time cost=142.712\n",
            "call reset()\n",
            "INFO:root:Epoch[25] Batch [0-64]\tSpeed: 84.18 samples/sec\tacc=0.999880\n",
            "INFO:root:Epoch[25] Train-acc=0.999917\n",
            "INFO:root:Epoch[25] Time cost=142.707\n",
            "call reset()\n",
            "INFO:root:Epoch[26] Batch [0-64]\tSpeed: 84.15 samples/sec\tacc=0.999880\n",
            "INFO:root:Epoch[26] Train-acc=0.999917\n",
            "INFO:root:Epoch[26] Time cost=142.872\n",
            "call reset()\n",
            "INFO:root:Epoch[27] Batch [0-64]\tSpeed: 84.16 samples/sec\tacc=0.999880\n",
            "INFO:root:Epoch[27] Train-acc=0.999917\n",
            "INFO:root:Epoch[27] Time cost=142.919\n",
            "call reset()\n",
            "INFO:root:Epoch[28] Batch [0-64]\tSpeed: 84.16 samples/sec\tacc=0.999880\n",
            "INFO:root:Epoch[28] Train-acc=0.999917\n",
            "INFO:root:Epoch[28] Time cost=142.847\n",
            "call reset()\n",
            "INFO:root:Epoch[29] Batch [0-64]\tSpeed: 84.09 samples/sec\tacc=0.999880\n",
            "INFO:root:Epoch[29] Train-acc=0.999834\n",
            "INFO:root:Epoch[29] Time cost=142.974\n",
            "call reset()\n",
            "INFO:root:Epoch[30] Batch [0-64]\tSpeed: 84.14 samples/sec\tacc=1.000000\n",
            "INFO:root:Epoch[30] Train-acc=0.999834\n",
            "INFO:root:Epoch[30] Time cost=142.842\n",
            "call reset()\n",
            "INFO:root:Epoch[31] Batch [0-64]\tSpeed: 84.05 samples/sec\tacc=1.000000\n",
            "lr-batch-epoch: 0.001 86 31\n",
            "testing verification..\n",
            "infer time 38.14475\n",
            "1.6300000000000001\n",
            "1.6400000000000001\n",
            "1.6300000000000001\n",
            "1.6300000000000001\n",
            "1.6\n",
            "1.7\n",
            "1.6400000000000001\n",
            "1.7\n",
            "1.7\n",
            "1.7\n",
            "[valid][3000]XNorm: 20.700206\n",
            "[valid][3000]Accuracy-Flip: 0.91931+-0.03909\n",
            "[0.9193083573487032]\n",
            "jjz1-saving: False\n",
            "jjz1-ckpt: 2\n",
            "jjz2-saving: True\n",
            "saving 4\n",
            "INFO:root:Saved checkpoint to \"../my_model/iface-0004.params\"\n",
            "[3000]Accuracy-Highest: 0.98646\n",
            "INFO:root:Epoch[31] Train-acc=1.000000\n",
            "INFO:root:Epoch[31] Time cost=182.583\n",
            "call reset()\n",
            "INFO:root:Epoch[32] Batch [0-64]\tSpeed: 84.03 samples/sec\tacc=0.999880\n",
            "INFO:root:Epoch[32] Train-acc=0.999834\n",
            "INFO:root:Epoch[32] Time cost=142.972\n",
            "call reset()\n",
            "INFO:root:Epoch[33] Batch [0-64]\tSpeed: 84.14 samples/sec\tacc=1.000000\n",
            "INFO:root:Epoch[33] Train-acc=1.000000\n",
            "INFO:root:Epoch[33] Time cost=142.806\n",
            "call reset()\n",
            "INFO:root:Epoch[34] Batch [0-64]\tSpeed: 84.10 samples/sec\tacc=1.000000\n",
            "INFO:root:Epoch[34] Train-acc=1.000000\n",
            "INFO:root:Epoch[34] Time cost=142.868\n",
            "call reset()\n",
            "INFO:root:Epoch[35] Batch [0-64]\tSpeed: 84.05 samples/sec\tacc=0.999760\n",
            "INFO:root:Epoch[35] Train-acc=0.999834\n",
            "INFO:root:Epoch[35] Time cost=142.847\n",
            "call reset()\n",
            "INFO:root:Epoch[36] Batch [0-64]\tSpeed: 84.03 samples/sec\tacc=1.000000\n",
            "INFO:root:Epoch[36] Train-acc=0.999917\n",
            "INFO:root:Epoch[36] Time cost=142.948\n",
            "call reset()\n",
            "INFO:root:Epoch[37] Batch [0-64]\tSpeed: 84.06 samples/sec\tacc=0.999880\n",
            "INFO:root:Epoch[37] Train-acc=0.999834\n",
            "INFO:root:Epoch[37] Time cost=143.036\n",
            "call reset()\n",
            "INFO:root:Epoch[38] Batch [0-64]\tSpeed: 84.08 samples/sec\tacc=1.000000\n",
            "INFO:root:Epoch[38] Train-acc=0.999917\n",
            "INFO:root:Epoch[38] Time cost=142.971\n",
            "call reset()\n",
            "INFO:root:Epoch[39] Batch [0-64]\tSpeed: 84.07 samples/sec\tacc=0.999880\n",
            "INFO:root:Epoch[39] Train-acc=0.999834\n",
            "INFO:root:Epoch[39] Time cost=142.851\n",
            "call reset()\n",
            "INFO:root:Epoch[40] Batch [0-64]\tSpeed: 84.17 samples/sec\tacc=0.999760\n",
            "INFO:root:Epoch[40] Train-acc=0.999834\n",
            "INFO:root:Epoch[40] Time cost=142.930\n",
            "call reset()\n",
            "INFO:root:Epoch[41] Batch [0-64]\tSpeed: 84.11 samples/sec\tacc=0.999880\n",
            "INFO:root:Epoch[41] Train-acc=0.999834\n",
            "INFO:root:Epoch[41] Time cost=142.967\n",
            "call reset()\n",
            "lr-batch-epoch: 0.001 52 42\n",
            "testing verification..\n",
            "infer time 38.074222\n",
            "1.62\n",
            "1.6300000000000001\n",
            "1.62\n",
            "1.6300000000000001\n",
            "1.6\n",
            "1.7\n",
            "1.6300000000000001\n",
            "1.7\n",
            "1.7\n",
            "1.7\n",
            "[valid][4000]XNorm: 20.632511\n",
            "[valid][4000]Accuracy-Flip: 0.91700+-0.04272\n",
            "[0.9170028818443804]\n",
            "jjz1-saving: False\n",
            "jjz1-ckpt: 2\n",
            "jjz2-saving: True\n",
            "saving 5\n",
            "INFO:root:Saved checkpoint to \"../my_model/iface-0005.params\"\n",
            "[4000]Accuracy-Highest: 0.98646\n",
            "INFO:root:Epoch[42] Batch [0-64]\tSpeed: 59.80 samples/sec\tacc=1.000000\n",
            "INFO:root:Epoch[42] Train-acc=0.999917\n",
            "INFO:root:Epoch[42] Time cost=182.617\n",
            "call reset()\n",
            "INFO:root:Epoch[43] Batch [0-64]\tSpeed: 84.22 samples/sec\tacc=0.999880\n",
            "INFO:root:Epoch[43] Train-acc=0.999834\n",
            "INFO:root:Epoch[43] Time cost=142.745\n",
            "call reset()\n",
            "INFO:root:Epoch[44] Batch [0-64]\tSpeed: 84.08 samples/sec\tacc=0.999880\n",
            "INFO:root:Epoch[44] Train-acc=0.999917\n",
            "INFO:root:Epoch[44] Time cost=142.948\n",
            "call reset()\n",
            "INFO:root:Epoch[45] Batch [0-64]\tSpeed: 84.00 samples/sec\tacc=0.999880\n",
            "INFO:root:Epoch[45] Train-acc=0.999917\n",
            "INFO:root:Epoch[45] Time cost=143.022\n",
            "call reset()\n",
            "INFO:root:Epoch[46] Batch [0-64]\tSpeed: 84.03 samples/sec\tacc=0.999880\n",
            "INFO:root:Epoch[46] Train-acc=0.999834\n",
            "INFO:root:Epoch[46] Time cost=143.098\n",
            "call reset()\n",
            "INFO:root:Epoch[47] Batch [0-64]\tSpeed: 84.09 samples/sec\tacc=0.999880\n",
            "INFO:root:Epoch[47] Train-acc=0.999917\n",
            "INFO:root:Epoch[47] Time cost=142.961\n",
            "call reset()\n",
            "INFO:root:Epoch[48] Batch [0-64]\tSpeed: 84.03 samples/sec\tacc=0.999880\n",
            "INFO:root:Epoch[48] Train-acc=0.999834\n",
            "INFO:root:Epoch[48] Time cost=143.026\n",
            "call reset()\n",
            "INFO:root:Epoch[49] Batch [0-64]\tSpeed: 84.03 samples/sec\tacc=0.999880\n",
            "INFO:root:Epoch[49] Train-acc=0.999917\n",
            "INFO:root:Epoch[49] Time cost=142.877\n",
            "call reset()\n",
            "INFO:root:Epoch[50] Batch [0-64]\tSpeed: 84.03 samples/sec\tacc=0.999880\n",
            "INFO:root:Epoch[50] Train-acc=0.999917\n",
            "INFO:root:Epoch[50] Time cost=142.934\n",
            "call reset()\n",
            "INFO:root:Epoch[51] Batch [0-64]\tSpeed: 84.05 samples/sec\tacc=1.000000\n",
            "INFO:root:Epoch[51] Train-acc=1.000000\n",
            "INFO:root:Epoch[51] Time cost=143.009\n",
            "call reset()\n",
            "INFO:root:Epoch[52] Batch [0-64]\tSpeed: 84.08 samples/sec\tacc=0.999880\n",
            "INFO:root:Epoch[52] Train-acc=0.999917\n",
            "INFO:root:Epoch[52] Time cost=143.001\n",
            "call reset()\n",
            "lr-batch-epoch: 0.001 18 53\n",
            "testing verification..\n",
            "infer time 38.111123\n",
            "1.6300000000000001\n",
            "1.6300000000000001\n",
            "1.6300000000000001\n",
            "1.6300000000000001\n",
            "1.6300000000000001\n",
            "1.7\n",
            "1.6400000000000001\n",
            "1.6400000000000001\n",
            "1.7\n",
            "1.6300000000000001\n",
            "[valid][5000]XNorm: 20.640314\n",
            "[valid][5000]Accuracy-Flip: 0.92939+-0.03802\n",
            "[0.9293948126801153]\n",
            "jjz1-saving: False\n",
            "jjz1-ckpt: 2\n",
            "jjz2-saving: True\n",
            "saving 6\n",
            "INFO:root:Saved checkpoint to \"../my_model/iface-0006.params\"\n",
            "[5000]Accuracy-Highest: 0.98646\n",
            "INFO:root:Epoch[53] Batch [0-64]\tSpeed: 59.70 samples/sec\tacc=1.000000\n",
            "INFO:root:Epoch[53] Train-acc=1.000000\n",
            "INFO:root:Epoch[53] Time cost=182.717\n",
            "call reset()\n",
            "INFO:root:Epoch[54] Batch [0-64]\tSpeed: 84.02 samples/sec\tacc=1.000000\n",
            "INFO:root:Epoch[54] Train-acc=1.000000\n",
            "INFO:root:Epoch[54] Time cost=143.004\n",
            "call reset()\n",
            "INFO:root:Epoch[55] Batch [0-64]\tSpeed: 84.00 samples/sec\tacc=0.999760\n",
            "INFO:root:Epoch[55] Train-acc=0.999834\n",
            "INFO:root:Epoch[55] Time cost=143.090\n",
            "call reset()\n",
            "INFO:root:Epoch[56] Batch [0-64]\tSpeed: 83.99 samples/sec\tacc=1.000000\n",
            "INFO:root:Epoch[56] Train-acc=1.000000\n",
            "INFO:root:Epoch[56] Time cost=142.989\n",
            "call reset()\n",
            "INFO:root:Epoch[57] Batch [0-64]\tSpeed: 84.04 samples/sec\tacc=0.999880\n",
            "INFO:root:Epoch[57] Train-acc=0.999917\n",
            "INFO:root:Epoch[57] Time cost=142.993\n",
            "call reset()\n",
            "INFO:root:Epoch[58] Batch [0-64]\tSpeed: 84.07 samples/sec\tacc=0.999880\n",
            "INFO:root:Epoch[58] Train-acc=0.999917\n",
            "INFO:root:Epoch[58] Time cost=143.017\n",
            "call reset()\n",
            "INFO:root:Epoch[59] Batch [0-64]\tSpeed: 84.06 samples/sec\tacc=0.999760\n",
            "INFO:root:Epoch[59] Train-acc=0.999834\n",
            "INFO:root:Epoch[59] Time cost=142.922\n",
            "call reset()\n",
            "INFO:root:Epoch[60] Batch [0-64]\tSpeed: 84.03 samples/sec\tacc=1.000000\n",
            "INFO:root:Epoch[60] Train-acc=1.000000\n",
            "INFO:root:Epoch[60] Time cost=142.979\n",
            "call reset()\n",
            "INFO:root:Epoch[61] Batch [0-64]\tSpeed: 84.13 samples/sec\tacc=1.000000\n",
            "INFO:root:Epoch[61] Train-acc=1.000000\n",
            "INFO:root:Epoch[61] Time cost=142.930\n",
            "call reset()\n",
            "INFO:root:Epoch[62] Batch [0-64]\tSpeed: 84.04 samples/sec\tacc=1.000000\n",
            "INFO:root:Epoch[62] Train-acc=1.000000\n",
            "INFO:root:Epoch[62] Time cost=143.050\n",
            "call reset()\n",
            "INFO:root:Epoch[63] Batch [0-64]\tSpeed: 84.04 samples/sec\tacc=0.999880\n",
            "lr-batch-epoch: 0.001 78 63\n",
            "testing verification..\n",
            "infer time 38.125525\n",
            "1.61\n",
            "1.61\n",
            "1.6\n",
            "1.61\n",
            "1.61\n",
            "1.7\n",
            "1.6500000000000001\n",
            "1.6500000000000001\n",
            "1.7\n",
            "1.6500000000000001\n",
            "[valid][6000]XNorm: 20.606149\n",
            "[valid][6000]Accuracy-Flip: 0.92392+-0.04129\n",
            "[0.9239193083573488]\n",
            "jjz1-saving: False\n",
            "jjz1-ckpt: 2\n",
            "jjz2-saving: True\n",
            "saving 7\n",
            "INFO:root:Saved checkpoint to \"../my_model/iface-0007.params\"\n",
            "[6000]Accuracy-Highest: 0.98646\n",
            "INFO:root:Epoch[63] Train-acc=0.999917\n",
            "INFO:root:Epoch[63] Time cost=182.644\n",
            "call reset()\n",
            "INFO:root:Epoch[64] Batch [0-64]\tSpeed: 84.08 samples/sec\tacc=1.000000\n",
            "INFO:root:Epoch[64] Train-acc=0.999917\n",
            "INFO:root:Epoch[64] Time cost=143.048\n",
            "call reset()\n",
            "INFO:root:Epoch[65] Batch [0-64]\tSpeed: 84.09 samples/sec\tacc=1.000000\n",
            "INFO:root:Epoch[65] Train-acc=0.999917\n",
            "INFO:root:Epoch[65] Time cost=142.986\n",
            "call reset()\n",
            "INFO:root:Epoch[66] Batch [0-64]\tSpeed: 84.10 samples/sec\tacc=1.000000\n",
            "INFO:root:Epoch[66] Train-acc=0.999917\n",
            "INFO:root:Epoch[66] Time cost=142.830\n",
            "call reset()\n",
            "INFO:root:Epoch[67] Batch [0-64]\tSpeed: 84.05 samples/sec\tacc=1.000000\n",
            "INFO:root:Epoch[67] Train-acc=1.000000\n",
            "INFO:root:Epoch[67] Time cost=143.026\n",
            "call reset()\n",
            "INFO:root:Epoch[68] Batch [0-64]\tSpeed: 84.05 samples/sec\tacc=1.000000\n",
            "INFO:root:Epoch[68] Train-acc=0.999834\n",
            "INFO:root:Epoch[68] Time cost=143.035\n",
            "call reset()\n",
            "INFO:root:Epoch[69] Batch [0-64]\tSpeed: 84.03 samples/sec\tacc=1.000000\n",
            "INFO:root:Epoch[69] Train-acc=1.000000\n",
            "INFO:root:Epoch[69] Time cost=142.989\n",
            "call reset()\n",
            "INFO:root:Epoch[70] Batch [0-64]\tSpeed: 84.00 samples/sec\tacc=0.999880\n",
            "INFO:root:Epoch[70] Train-acc=0.999917\n",
            "INFO:root:Epoch[70] Time cost=143.000\n",
            "call reset()\n",
            "INFO:root:Epoch[71] Batch [0-64]\tSpeed: 84.03 samples/sec\tacc=1.000000\n",
            "INFO:root:Epoch[71] Train-acc=1.000000\n",
            "INFO:root:Epoch[71] Time cost=143.063\n",
            "call reset()\n",
            "INFO:root:Epoch[72] Batch [0-64]\tSpeed: 84.07 samples/sec\tacc=1.000000\n",
            "INFO:root:Epoch[72] Train-acc=1.000000\n",
            "INFO:root:Epoch[72] Time cost=142.931\n",
            "call reset()\n",
            "INFO:root:Epoch[73] Batch [0-64]\tSpeed: 84.01 samples/sec\tacc=1.000000\n",
            "INFO:root:Epoch[73] Train-acc=1.000000\n",
            "INFO:root:Epoch[73] Time cost=143.039\n",
            "call reset()\n",
            "lr-batch-epoch: 0.001 44 74\n",
            "testing verification..\n",
            "infer time 38.162181\n",
            "1.62\n",
            "1.62\n",
            "1.61\n",
            "1.6400000000000001\n",
            "1.6\n",
            "1.69\n",
            "1.6400000000000001\n",
            "1.69\n",
            "1.69\n",
            "1.69\n",
            "[valid][7000]XNorm: 20.562006\n",
            "[valid][7000]Accuracy-Flip: 0.92104+-0.04173\n",
            "[0.9210374639769452]\n",
            "jjz1-saving: False\n",
            "jjz1-ckpt: 2\n",
            "jjz2-saving: True\n",
            "saving 8\n",
            "INFO:root:Saved checkpoint to \"../my_model/iface-0008.params\"\n",
            "[7000]Accuracy-Highest: 0.98646\n",
            "INFO:root:Epoch[74] Batch [0-64]\tSpeed: 59.68 samples/sec\tacc=1.000000\n",
            "INFO:root:Epoch[74] Train-acc=1.000000\n",
            "INFO:root:Epoch[74] Time cost=182.818\n",
            "call reset()\n",
            "INFO:root:Epoch[75] Batch [0-64]\tSpeed: 83.98 samples/sec\tacc=1.000000\n",
            "INFO:root:Epoch[75] Train-acc=1.000000\n",
            "INFO:root:Epoch[75] Time cost=143.094\n",
            "call reset()\n",
            "INFO:root:Epoch[76] Batch [0-64]\tSpeed: 84.01 samples/sec\tacc=1.000000\n",
            "INFO:root:Epoch[76] Train-acc=1.000000\n",
            "INFO:root:Epoch[76] Time cost=143.110\n",
            "call reset()\n",
            "INFO:root:Epoch[77] Batch [0-64]\tSpeed: 84.08 samples/sec\tacc=1.000000\n",
            "INFO:root:Epoch[77] Train-acc=1.000000\n",
            "INFO:root:Epoch[77] Time cost=142.989\n",
            "call reset()\n",
            "INFO:root:Epoch[78] Batch [0-64]\tSpeed: 84.09 samples/sec\tacc=1.000000\n",
            "INFO:root:Epoch[78] Train-acc=1.000000\n",
            "INFO:root:Epoch[78] Time cost=142.945\n",
            "call reset()\n",
            "INFO:root:Epoch[79] Batch [0-64]\tSpeed: 83.90 samples/sec\tacc=1.000000\n",
            "INFO:root:Epoch[79] Train-acc=1.000000\n",
            "INFO:root:Epoch[79] Time cost=143.145\n",
            "call reset()\n",
            "INFO:root:Epoch[80] Batch [0-64]\tSpeed: 84.06 samples/sec\tacc=1.000000\n",
            "INFO:root:Epoch[80] Train-acc=1.000000\n",
            "INFO:root:Epoch[80] Time cost=143.068\n",
            "call reset()\n",
            "INFO:root:Epoch[81] Batch [0-64]\tSpeed: 84.02 samples/sec\tacc=1.000000\n",
            "INFO:root:Epoch[81] Train-acc=1.000000\n",
            "INFO:root:Epoch[81] Time cost=143.076\n",
            "call reset()\n",
            "INFO:root:Epoch[82] Batch [0-64]\tSpeed: 83.94 samples/sec\tacc=1.000000\n",
            "INFO:root:Epoch[82] Train-acc=1.000000\n",
            "INFO:root:Epoch[82] Time cost=143.201\n",
            "call reset()\n",
            "INFO:root:Epoch[83] Batch [0-64]\tSpeed: 83.98 samples/sec\tacc=1.000000\n",
            "INFO:root:Epoch[83] Train-acc=1.000000\n",
            "INFO:root:Epoch[83] Time cost=143.111\n",
            "call reset()\n",
            "INFO:root:Epoch[84] Batch [0-64]\tSpeed: 84.05 samples/sec\tacc=1.000000\n",
            "INFO:root:Epoch[84] Train-acc=1.000000\n",
            "INFO:root:Epoch[84] Time cost=143.032\n",
            "call reset()\n",
            "lr-batch-epoch: 0.001 10 85\n",
            "testing verification..\n",
            "infer time 38.133815\n",
            "1.62\n",
            "1.62\n",
            "1.62\n",
            "1.62\n",
            "1.62\n",
            "1.7\n",
            "1.6500000000000001\n",
            "1.7\n",
            "1.7\n",
            "1.6500000000000001\n",
            "[valid][8000]XNorm: 20.583853\n",
            "[valid][8000]Accuracy-Flip: 0.92219+-0.03995\n",
            "[0.9221902017291066]\n",
            "jjz1-saving: False\n",
            "jjz1-ckpt: 2\n",
            "jjz2-saving: True\n",
            "saving 9\n",
            "INFO:root:Saved checkpoint to \"../my_model/iface-0009.params\"\n",
            "[8000]Accuracy-Highest: 0.98646\n",
            "INFO:root:Epoch[85] Batch [0-64]\tSpeed: 59.76 samples/sec\tacc=1.000000\n",
            "INFO:root:Epoch[85] Train-acc=1.000000\n",
            "INFO:root:Epoch[85] Time cost=182.349\n",
            "call reset()\n",
            "INFO:root:Epoch[86] Batch [0-64]\tSpeed: 84.38 samples/sec\tacc=1.000000\n",
            "INFO:root:Epoch[86] Train-acc=1.000000\n",
            "INFO:root:Epoch[86] Time cost=142.716\n",
            "call reset()\n",
            "INFO:root:Epoch[87] Batch [0-64]\tSpeed: 84.00 samples/sec\tacc=1.000000\n",
            "INFO:root:Epoch[87] Train-acc=1.000000\n",
            "INFO:root:Epoch[87] Time cost=143.037\n",
            "call reset()\n",
            "INFO:root:Epoch[88] Batch [0-64]\tSpeed: 84.04 samples/sec\tacc=1.000000\n",
            "INFO:root:Epoch[88] Train-acc=1.000000\n",
            "INFO:root:Epoch[88] Time cost=143.047\n",
            "call reset()\n",
            "INFO:root:Epoch[89] Batch [0-64]\tSpeed: 84.03 samples/sec\tacc=1.000000\n",
            "INFO:root:Epoch[89] Train-acc=1.000000\n",
            "INFO:root:Epoch[89] Time cost=143.043\n",
            "call reset()\n",
            "INFO:root:Epoch[90] Batch [0-64]\tSpeed: 84.05 samples/sec\tacc=1.000000\n",
            "INFO:root:Epoch[90] Train-acc=1.000000\n",
            "INFO:root:Epoch[90] Time cost=143.028\n",
            "call reset()\n",
            "INFO:root:Epoch[91] Batch [0-64]\tSpeed: 83.86 samples/sec\tacc=1.000000\n",
            "INFO:root:Epoch[91] Train-acc=1.000000\n",
            "INFO:root:Epoch[91] Time cost=143.195\n",
            "call reset()\n",
            "INFO:root:Epoch[92] Batch [0-64]\tSpeed: 84.11 samples/sec\tacc=1.000000\n",
            "INFO:root:Epoch[92] Train-acc=1.000000\n",
            "INFO:root:Epoch[92] Time cost=142.996\n",
            "call reset()\n",
            "INFO:root:Epoch[93] Batch [0-64]\tSpeed: 83.93 samples/sec\tacc=1.000000\n",
            "INFO:root:Epoch[93] Train-acc=1.000000\n",
            "INFO:root:Epoch[93] Time cost=143.186\n",
            "call reset()\n",
            "INFO:root:Epoch[94] Batch [0-64]\tSpeed: 84.04 samples/sec\tacc=1.000000\n",
            "INFO:root:Epoch[94] Train-acc=1.000000\n",
            "INFO:root:Epoch[94] Time cost=142.917\n",
            "call reset()\n",
            "INFO:root:Epoch[95] Batch [0-64]\tSpeed: 83.99 samples/sec\tacc=1.000000\n",
            "lr-batch-epoch: 0.001 70 95\n",
            "testing verification..\n",
            "infer time 38.172769\n",
            "1.62\n",
            "1.6500000000000001\n",
            "1.62\n",
            "1.62\n",
            "1.62\n",
            "1.6500000000000001\n",
            "1.6500000000000001\n",
            "1.6500000000000001\n",
            "1.6500000000000001\n",
            "1.6500000000000001\n",
            "[valid][9000]XNorm: 20.599189\n",
            "[valid][9000]Accuracy-Flip: 0.93314+-0.04063\n",
            "[0.9331412103746398]\n",
            "jjz1-saving: False\n",
            "jjz1-ckpt: 2\n",
            "jjz2-saving: True\n",
            "saving 10\n",
            "INFO:root:Saved checkpoint to \"../my_model/iface-0010.params\"\n",
            "[9000]Accuracy-Highest: 0.98646\n",
            "INFO:root:Epoch[95] Train-acc=1.000000\n",
            "INFO:root:Epoch[95] Time cost=182.612\n",
            "call reset()\n",
            "INFO:root:Epoch[96] Batch [0-64]\tSpeed: 84.06 samples/sec\tacc=1.000000\n",
            "INFO:root:Epoch[96] Train-acc=1.000000\n",
            "INFO:root:Epoch[96] Time cost=143.058\n",
            "call reset()\n",
            "INFO:root:Epoch[97] Batch [0-64]\tSpeed: 83.90 samples/sec\tacc=1.000000\n",
            "INFO:root:Epoch[97] Train-acc=1.000000\n",
            "INFO:root:Epoch[97] Time cost=143.188\n",
            "call reset()\n",
            "INFO:root:Epoch[98] Batch [0-64]\tSpeed: 84.13 samples/sec\tacc=1.000000\n",
            "INFO:root:Epoch[98] Train-acc=1.000000\n",
            "INFO:root:Epoch[98] Time cost=142.961\n",
            "call reset()\n",
            "INFO:root:Epoch[99] Batch [0-64]\tSpeed: 84.03 samples/sec\tacc=1.000000\n",
            "INFO:root:Epoch[99] Train-acc=1.000000\n",
            "INFO:root:Epoch[99] Time cost=143.027\n",
            "call reset()\n",
            "INFO:root:Epoch[100] Batch [0-64]\tSpeed: 84.00 samples/sec\tacc=1.000000\n",
            "INFO:root:Epoch[100] Train-acc=1.000000\n",
            "INFO:root:Epoch[100] Time cost=143.012\n",
            "call reset()\n",
            "INFO:root:Epoch[101] Batch [0-64]\tSpeed: 84.03 samples/sec\tacc=1.000000\n",
            "INFO:root:Epoch[101] Train-acc=1.000000\n",
            "INFO:root:Epoch[101] Time cost=143.028\n",
            "call reset()\n",
            "INFO:root:Epoch[102] Batch [0-64]\tSpeed: 84.10 samples/sec\tacc=1.000000\n",
            "INFO:root:Epoch[102] Train-acc=1.000000\n",
            "INFO:root:Epoch[102] Time cost=142.916\n",
            "call reset()\n",
            "INFO:root:Epoch[103] Batch [0-64]\tSpeed: 84.02 samples/sec\tacc=1.000000\n",
            "INFO:root:Epoch[103] Train-acc=1.000000\n",
            "INFO:root:Epoch[103] Time cost=143.029\n",
            "call reset()\n",
            "INFO:root:Epoch[104] Batch [0-64]\tSpeed: 84.11 samples/sec\tacc=1.000000\n",
            "INFO:root:Epoch[104] Train-acc=1.000000\n",
            "INFO:root:Epoch[104] Time cost=142.917\n",
            "call reset()\n",
            "INFO:root:Epoch[105] Batch [0-64]\tSpeed: 84.11 samples/sec\tacc=1.000000\n",
            "INFO:root:Epoch[105] Train-acc=1.000000\n",
            "INFO:root:Epoch[105] Time cost=142.854\n",
            "call reset()\n",
            "lr-batch-epoch: 0.001 36 106\n",
            "testing verification..\n",
            "infer time 38.220996\n",
            "1.6300000000000001\n",
            "1.61\n",
            "1.61\n",
            "1.61\n",
            "1.61\n",
            "1.7\n",
            "1.6300000000000001\n",
            "1.7\n",
            "1.6500000000000001\n",
            "1.7\n",
            "[valid][10000]XNorm: 20.560472\n",
            "[valid][10000]Accuracy-Flip: 0.92161+-0.04095\n",
            "[0.9216138328530258]\n",
            "jjz1-saving: False\n",
            "jjz1-ckpt: 2\n",
            "jjz2-saving: True\n",
            "saving 11\n",
            "INFO:root:Saved checkpoint to \"../my_model/iface-0011.params\"\n",
            "[10000]Accuracy-Highest: 0.98646\n",
            "INFO:root:Epoch[106] Batch [0-64]\tSpeed: 59.66 samples/sec\tacc=1.000000\n",
            "INFO:root:Epoch[106] Train-acc=1.000000\n",
            "INFO:root:Epoch[106] Time cost=182.871\n",
            "call reset()\n",
            "Traceback (most recent call last):\n",
            "  File \"train_softmax_my.py\", line 565, in <module>\n",
            "    main()\n",
            "  File \"train_softmax_my.py\", line 562, in main\n",
            "    train_net(args)\n",
            "  File \"train_softmax_my.py\", line 555, in train_net\n",
            "    epoch_end_callback = epoch_cb )\n",
            "  File \"/usr/local/lib/python2.7/dist-packages/mxnet/module/base_module.py\", line 539, in fit\n",
            "    self.update_metric(eval_metric, data_batch.label)\n",
            "  File \"/usr/local/lib/python2.7/dist-packages/mxnet/module/module.py\", line 775, in update_metric\n",
            "    self._exec_group.update_metric(eval_metric, labels, pre_sliced)\n",
            "  File \"/usr/local/lib/python2.7/dist-packages/mxnet/module/executor_group.py\", line 639, in update_metric\n",
            "    eval_metric.update_dict(labels_, preds)\n",
            "  File \"/usr/local/lib/python2.7/dist-packages/mxnet/metric.py\", line 304, in update_dict\n",
            "    metric.update_dict(labels, preds)\n",
            "  File \"/usr/local/lib/python2.7/dist-packages/mxnet/metric.py\", line 132, in update_dict\n",
            "    self.update(label, pred)\n",
            "  File \"train_softmax_my.py\", line 76, in update\n",
            "    pred_label = pred_label.asnumpy().astype('int32').flatten()\n",
            "  File \"/usr/local/lib/python2.7/dist-packages/mxnet/ndarray/ndarray.py\", line 1980, in asnumpy\n",
            "    ctypes.c_size_t(data.size)))\n",
            "KeyboardInterrupt\n"
          ],
          "name": "stdout"
        }
      ]
    },
    {
      "cell_type": "code",
      "metadata": {
        "id": "8Hj3fE6ARUE3",
        "colab_type": "code",
        "outputId": "f9023a88-6aea-4832-d461-7e30f5b8719b",
        "colab": {
          "base_uri": "https://localhost:8080/",
          "height": 243
        }
      },
      "source": [
        "ls -l ../my_model/"
      ],
      "execution_count": 0,
      "outputs": [
        {
          "output_type": "stream",
          "text": [
            "total 1999308\n",
            "-rw-r--r-- 1 root root 186096153 Jul 12 13:10 iface-0001.params\n",
            "-rw-r--r-- 1 root root 186096153 Jul 12 13:36 iface-0002.params\n",
            "-rw-r--r-- 1 root root 186096153 Jul 12 14:02 iface-0003.params\n",
            "-rw-r--r-- 1 root root 186096153 Jul 12 14:28 iface-0004.params\n",
            "-rw-r--r-- 1 root root 186096153 Jul 12 14:54 iface-0005.params\n",
            "-rw-r--r-- 1 root root 186096153 Jul 12 15:20 iface-0006.params\n",
            "-rw-r--r-- 1 root root 186096153 Jul 12 15:46 iface-0007.params\n",
            "-rw-r--r-- 1 root root 186096153 Jul 12 16:12 iface-0008.params\n",
            "-rw-r--r-- 1 root root 186096153 Jul 12 16:38 iface-0009.params\n",
            "-rw-r--r-- 1 root root 186096153 Jul 12 17:04 iface-0010.params\n",
            "-rw------- 1 root root 186096153 Jul 12 17:30 iface-0011.params\n",
            "-rw------- 1 root root    216015 Jul 12 17:30 iface-symbol.json\n"
          ],
          "name": "stdout"
        }
      ]
    },
    {
      "cell_type": "code",
      "metadata": {
        "id": "xVtM5kiBV-Sw",
        "colab_type": "code",
        "colab": {}
      },
      "source": [
        "!cp -r ../my_model $iface_data/final/"
      ],
      "execution_count": 0,
      "outputs": []
    },
    {
      "cell_type": "code",
      "metadata": {
        "id": "l6Z34L7mDm0n",
        "colab_type": "code",
        "outputId": "b715d2fb-62d8-4554-b351-4f7f23dc780a",
        "colab": {
          "base_uri": "https://localhost:8080/",
          "height": 51
        }
      },
      "source": [
        "#%reset"
      ],
      "execution_count": 0,
      "outputs": [
        {
          "output_type": "stream",
          "text": [
            "Once deleted, variables cannot be recovered. Proceed (y/[n])? n\n",
            "Nothing done.\n"
          ],
          "name": "stdout"
        }
      ]
    },
    {
      "cell_type": "markdown",
      "metadata": {
        "id": "_IFomaXcMpnw",
        "colab_type": "text"
      },
      "source": [
        "# Generate feature DB of faces<br>\n",
        "\n",
        "> use trained images as source to create the feature DB<br>\n",
        "use the stored model to generate feature. <br>\n",
        "the feature DB will be stored in dir gallery.<br>\n",
        "use estimated number of the threshold during trainning. **threshold=1.62**.<br>\n",
        "mtcnn-model is needed, we need copy it from dir deploy"
      ]
    },
    {
      "cell_type": "code",
      "metadata": {
        "id": "wn5nwuNXNZcy",
        "colab_type": "code",
        "colab": {}
      },
      "source": [
        "!cp $iface_data/middle/image_train.tgz /content/iface/insightface_for_face_recognition-master/dataset/"
      ],
      "execution_count": 0,
      "outputs": []
    },
    {
      "cell_type": "code",
      "metadata": {
        "id": "9MVk1O0KSbUE",
        "colab_type": "code",
        "outputId": "31e8a0bf-464c-46c7-c777-c4b98858527c",
        "colab": {
          "base_uri": "https://localhost:8080/",
          "height": 35
        }
      },
      "source": [
        "cd /content/iface/insightface_for_face_recognition-master/dataset/"
      ],
      "execution_count": 0,
      "outputs": [
        {
          "output_type": "stream",
          "text": [
            "/content/iface/insightface_for_face_recognition-master/dataset\n"
          ],
          "name": "stdout"
        }
      ]
    },
    {
      "cell_type": "code",
      "metadata": {
        "id": "mRP-KqdWShkp",
        "colab_type": "code",
        "colab": {}
      },
      "source": [
        "!tar zxvf image_train.tgz"
      ],
      "execution_count": 0,
      "outputs": []
    },
    {
      "cell_type": "code",
      "metadata": {
        "id": "bZp-lmp4TfZI",
        "colab_type": "code",
        "colab": {}
      },
      "source": [
        "!mkdir /content/iface/insightface_for_face_recognition-master/models"
      ],
      "execution_count": 0,
      "outputs": []
    },
    {
      "cell_type": "code",
      "metadata": {
        "id": "gdw6ooppSqK_",
        "colab_type": "code",
        "colab": {}
      },
      "source": [
        "!cp $iface_data/final/my_model/iface-0011.params /content/iface/insightface_for_face_recognition-master/models/"
      ],
      "execution_count": 0,
      "outputs": []
    },
    {
      "cell_type": "code",
      "metadata": {
        "id": "YNVa_PUFTng8",
        "colab_type": "code",
        "colab": {}
      },
      "source": [
        "!cp $iface_data/final/my_model/iface-symbol.json /content/iface/insightface_for_face_recognition-master/models/"
      ],
      "execution_count": 0,
      "outputs": []
    },
    {
      "cell_type": "code",
      "metadata": {
        "id": "7xtWZizUT26P",
        "colab_type": "code",
        "colab": {}
      },
      "source": [
        "!mkdir /content/iface/insightface_for_face_recognition-master/gallery"
      ],
      "execution_count": 0,
      "outputs": []
    },
    {
      "cell_type": "code",
      "metadata": {
        "id": "ZmeKbVKFW2Mw",
        "colab_type": "code",
        "colab": {}
      },
      "source": [
        "!cp /content/iface/insightface_for_face_recognition-master/deploy/mtcnn-model/* /content/iface/insightface_for_face_recognition-master/test/mtcnn-model/"
      ],
      "execution_count": 0,
      "outputs": []
    },
    {
      "cell_type": "code",
      "metadata": {
        "id": "pk9eqVch4gPG",
        "colab_type": "code",
        "colab": {}
      },
      "source": [
        "!cp $iface_root/make_face_gallery.py /content/iface/insightface_for_face_recognition-master/test/"
      ],
      "execution_count": 0,
      "outputs": []
    },
    {
      "cell_type": "code",
      "metadata": {
        "id": "a_WXn7omUTQZ",
        "colab_type": "code",
        "outputId": "c189da7e-62eb-43c1-b162-ed2a7c0b01cd",
        "colab": {
          "base_uri": "https://localhost:8080/",
          "height": 35
        }
      },
      "source": [
        "%env CUDA_VISIBLE_DEVICES=0"
      ],
      "execution_count": 0,
      "outputs": [
        {
          "output_type": "stream",
          "text": [
            "env: CUDA_VISIBLE_DEVICES=0\n"
          ],
          "name": "stdout"
        }
      ]
    },
    {
      "cell_type": "code",
      "metadata": {
        "id": "eHjEFz5gVJ_d",
        "colab_type": "code",
        "outputId": "438b9c78-e5fa-4d74-be1c-a395ff1c97e0",
        "colab": {
          "base_uri": "https://localhost:8080/",
          "height": 35
        }
      },
      "source": [
        "cd /content/iface/insightface_for_face_recognition-master/test/"
      ],
      "execution_count": 0,
      "outputs": [
        {
          "output_type": "stream",
          "text": [
            "/content/iface/insightface_for_face_recognition-master/test\n"
          ],
          "name": "stdout"
        }
      ]
    },
    {
      "cell_type": "code",
      "metadata": {
        "id": "9PE0CCCDVflx",
        "colab_type": "code",
        "colab": {}
      },
      "source": [
        "%%time\n",
        "!python make_face_gallery.py --model ../models/iface,0011 --data_dir ../dataset/image_train/ --gpu 0 --threshold 1.62 --gallery_dir ../gallery --det 0 --num_per_class 1"
      ],
      "execution_count": 0,
      "outputs": []
    },
    {
      "cell_type": "code",
      "metadata": {
        "id": "Yt-iQZDwAFYI",
        "colab_type": "code",
        "outputId": "728694b0-2e57-4a50-ae46-0b0864fa2be4",
        "colab": {
          "base_uri": "https://localhost:8080/",
          "height": 69
        }
      },
      "source": [
        "!ls -l ../gallery/"
      ],
      "execution_count": 0,
      "outputs": [
        {
          "output_type": "stream",
          "text": [
            "total 20936\n",
            "-rw-r--r-- 1 root root 21250176 Jul 14 10:03 face_gallery.npy\n",
            "-rw-r--r-- 1 root root   181708 Jul 14 10:03 face_labels.npy\n"
          ],
          "name": "stdout"
        }
      ]
    },
    {
      "cell_type": "code",
      "metadata": {
        "id": "IWzIFQdIANu7",
        "colab_type": "code",
        "colab": {}
      },
      "source": [
        "!cp -r ../gallery $iface_data/final/"
      ],
      "execution_count": 0,
      "outputs": []
    },
    {
      "cell_type": "markdown",
      "metadata": {
        "id": "G8TiUn2TDpfv",
        "colab_type": "text"
      },
      "source": [
        "# face feature DB test\n",
        "> copy pretrainned model into models <br>\n",
        "copy mtcnn-model from deploy to test directory <br>\n",
        "copy face gallery to local <br>\n",
        "copy test images into dataset"
      ]
    },
    {
      "cell_type": "code",
      "metadata": {
        "id": "P9bQ1QZzixiQ",
        "colab_type": "code",
        "colab": {}
      },
      "source": [
        "!mkdir /content/iface/insightface_for_face_recognition-master/models"
      ],
      "execution_count": 0,
      "outputs": []
    },
    {
      "cell_type": "code",
      "metadata": {
        "id": "zxjRm-HpiqpN",
        "colab_type": "code",
        "colab": {}
      },
      "source": [
        "!cp $iface_data/final/my_model/iface-0011.params /content/iface/insightface_for_face_recognition-master/models/"
      ],
      "execution_count": 0,
      "outputs": []
    },
    {
      "cell_type": "code",
      "metadata": {
        "id": "RLskDfCdi5V3",
        "colab_type": "code",
        "colab": {}
      },
      "source": [
        "!cp $iface_data/final/my_model/iface-symbol.json /content/iface/insightface_for_face_recognition-master/models/"
      ],
      "execution_count": 0,
      "outputs": []
    },
    {
      "cell_type": "code",
      "metadata": {
        "id": "JutdqRxljHrH",
        "colab_type": "code",
        "colab": {}
      },
      "source": [
        "!cp /content/iface/insightface_for_face_recognition-master/deploy/mtcnn-model/* /content/iface/insightface_for_face_recognition-master/test/mtcnn-model/"
      ],
      "execution_count": 0,
      "outputs": []
    },
    {
      "cell_type": "code",
      "metadata": {
        "id": "sqzmcDmtDwE0",
        "colab_type": "code",
        "colab": {}
      },
      "source": [
        "!cp -r $iface_data/final/gallery /content/iface/insightface_for_face_recognition-master/"
      ],
      "execution_count": 0,
      "outputs": []
    },
    {
      "cell_type": "code",
      "metadata": {
        "id": "cfluYKDkFMU2",
        "colab_type": "code",
        "colab": {}
      },
      "source": [
        "!cp -r $iface_data/final/test_images /content/iface/insightface_for_face_recognition-master/dataset/"
      ],
      "execution_count": 0,
      "outputs": []
    },
    {
      "cell_type": "code",
      "metadata": {
        "id": "NrJ5Z1ZJIvcf",
        "colab_type": "code",
        "colab": {}
      },
      "source": [
        "!cp $iface_root/test_gallery.py /content/iface/insightface_for_face_recognition-master/test/"
      ],
      "execution_count": 0,
      "outputs": []
    },
    {
      "cell_type": "code",
      "metadata": {
        "id": "A56rCxxttyDO",
        "colab_type": "code",
        "outputId": "cb5fb146-2a7f-4342-8897-dbff2519f8af",
        "colab": {
          "base_uri": "https://localhost:8080/",
          "height": 34
        }
      },
      "source": [
        "!ls $iface_root"
      ],
      "execution_count": 0,
      "outputs": [
        {
          "output_type": "stream",
          "text": [
            "iface.ipynb  iface.zip\tmake_face_gallery.py  test_gallery.py\n"
          ],
          "name": "stdout"
        }
      ]
    },
    {
      "cell_type": "code",
      "metadata": {
        "id": "FF3LFcdQFks4",
        "colab_type": "code",
        "outputId": "87777c2b-d9b7-477b-b5f0-b5dea7b13a68",
        "colab": {
          "base_uri": "https://localhost:8080/",
          "height": 34
        }
      },
      "source": [
        "cd /content/iface/insightface_for_face_recognition-master/test/"
      ],
      "execution_count": 0,
      "outputs": [
        {
          "output_type": "stream",
          "text": [
            "/content/iface/insightface_for_face_recognition-master/test\n"
          ],
          "name": "stdout"
        }
      ]
    },
    {
      "cell_type": "code",
      "metadata": {
        "id": "lT5wQFvZFr-O",
        "colab_type": "code",
        "outputId": "74b8892f-eef3-4420-fe02-5089ea9a1115",
        "colab": {
          "base_uri": "https://localhost:8080/",
          "height": 513
        }
      },
      "source": [
        "!python test_gallery.py --model ../models/iface,0011 --gpu 0 --image_path ../dataset/test_images --threshold 0.98 --threshold2 1"
      ],
      "execution_count": 0,
      "outputs": [
        {
          "output_type": "stream",
          "text": [
            "loading ../models/iface 11\n",
            "[05:37:45] src/nnvm/legacy_json_util.cc:209: Loading symbol saved by previous version v0.8.0. Attempting to upgrade...\n",
            "[05:37:45] src/nnvm/legacy_json_util.cc:217: Symbol successfully upgraded!\n",
            "[05:37:45] src/nnvm/legacy_json_util.cc:209: Loading symbol saved by previous version v0.8.0. Attempting to upgrade...\n",
            "[05:37:45] src/nnvm/legacy_json_util.cc:217: Symbol successfully upgraded!\n",
            "[05:37:45] src/nnvm/legacy_json_util.cc:209: Loading symbol saved by previous version v0.8.0. Attempting to upgrade...\n",
            "[05:37:45] src/nnvm/legacy_json_util.cc:217: Symbol successfully upgraded!\n",
            "[05:37:45] src/nnvm/legacy_json_util.cc:209: Loading symbol saved by previous version v0.8.0. Attempting to upgrade...\n",
            "[05:37:45] src/nnvm/legacy_json_util.cc:217: Symbol successfully upgraded!\n",
            "search image: ../dataset/test_images/6149.jpg in gallery...\n",
            "\n",
            "[05:37:45] src/operator/nn/./cudnn/./cudnn_algoreg-inl.h:97: Running performance tests to find the best convolution algorithm, this can take a while... (setting env variable MXNET_CUDNN_AUTOTUNE_DEFAULT to 0 to disable)\n",
            "image: ../dataset/test_images/6149.jpg is not in the gallery, refused!\n",
            "\n",
            "search image: ../dataset/test_images/9846.jpg in gallery...\n",
            "\n",
            "search image: ../dataset/test_images/3089.jpg in gallery...\n",
            "\n",
            "search image: ../dataset/test_images/7953.jpg in gallery...\n",
            "\n",
            "image: ../dataset/test_images/7953.jpg is not in the gallery, refused!\n",
            "\n",
            "search image: ../dataset/test_images/11476.jpg in gallery...\n",
            "\n",
            "search image: ../dataset/test_images/6938.jpg in gallery...\n",
            "\n",
            "image: ../dataset/test_images/6938.jpg is not in the gallery, refused!\n",
            "\n"
          ],
          "name": "stdout"
        }
      ]
    },
    {
      "cell_type": "markdown",
      "metadata": {
        "id": "f5dT5hi7FgS1",
        "colab_type": "text"
      },
      "source": [
        ""
      ]
    },
    {
      "cell_type": "code",
      "metadata": {
        "id": "YmI4SoZnFyCx",
        "colab_type": "code",
        "colab": {}
      },
      "source": [
        "!mkdir /content/iface/insightface_for_face_recognition-master/models_lfw"
      ],
      "execution_count": 0,
      "outputs": []
    },
    {
      "cell_type": "code",
      "metadata": {
        "id": "oVhb-5CjFc9_",
        "colab_type": "code",
        "colab": {}
      },
      "source": [
        "!cp $iface_data/final/model-r50-am-lfw/model-0000.params /content/iface/insightface_for_face_recognition-master/models_lfw"
      ],
      "execution_count": 0,
      "outputs": []
    },
    {
      "cell_type": "code",
      "metadata": {
        "id": "hLbCm1IHFuN0",
        "colab_type": "code",
        "colab": {}
      },
      "source": [
        "!cp $iface_data/final/model-r50-am-lfw/model-symbol.json /content/iface/insightface_for_face_recognition-master/models_lfw/"
      ],
      "execution_count": 0,
      "outputs": []
    },
    {
      "cell_type": "code",
      "metadata": {
        "id": "nnOmBWGcGI7n",
        "colab_type": "code",
        "outputId": "72b33f83-6eb0-413f-e5c0-48658a069cdd",
        "colab": {
          "base_uri": "https://localhost:8080/",
          "height": 513
        }
      },
      "source": [
        "!python test_gallery.py --model ../models_lfw//model,0000 --gpu 0 --image_path ../dataset/test_images --threshold 0.1 --threshold2 1"
      ],
      "execution_count": 0,
      "outputs": [
        {
          "output_type": "stream",
          "text": [
            "loading ../models_lfw//model 0\n",
            "[05:29:15] src/nnvm/legacy_json_util.cc:209: Loading symbol saved by previous version v0.12.1. Attempting to upgrade...\n",
            "[05:29:15] src/nnvm/legacy_json_util.cc:217: Symbol successfully upgraded!\n",
            "[05:29:18] src/nnvm/legacy_json_util.cc:209: Loading symbol saved by previous version v0.8.0. Attempting to upgrade...\n",
            "[05:29:18] src/nnvm/legacy_json_util.cc:217: Symbol successfully upgraded!\n",
            "[05:29:18] src/nnvm/legacy_json_util.cc:209: Loading symbol saved by previous version v0.8.0. Attempting to upgrade...\n",
            "[05:29:18] src/nnvm/legacy_json_util.cc:217: Symbol successfully upgraded!\n",
            "[05:29:18] src/nnvm/legacy_json_util.cc:209: Loading symbol saved by previous version v0.8.0. Attempting to upgrade...\n",
            "[05:29:18] src/nnvm/legacy_json_util.cc:217: Symbol successfully upgraded!\n",
            "[05:29:18] src/nnvm/legacy_json_util.cc:209: Loading symbol saved by previous version v0.8.0. Attempting to upgrade...\n",
            "[05:29:18] src/nnvm/legacy_json_util.cc:217: Symbol successfully upgraded!\n",
            "search image: ../dataset/test_images/6149.jpg in gallery...\n",
            "\n",
            "[05:29:19] src/operator/nn/./cudnn/./cudnn_algoreg-inl.h:97: Running performance tests to find the best convolution algorithm, this can take a while... (setting env variable MXNET_CUDNN_AUTOTUNE_DEFAULT to 0 to disable)\n",
            "image: ../dataset/test_images/6149.jpg is not in the gallery, refused!\n",
            "\n",
            "search image: ../dataset/test_images/3089.jpg in gallery...\n",
            "\n",
            "image: ../dataset/test_images/3089.jpg is not in the gallery, refused!\n",
            "\n",
            "search image: ../dataset/test_images/7953.jpg in gallery...\n",
            "\n",
            "image: ../dataset/test_images/7953.jpg is not in the gallery, refused!\n",
            "\n",
            "search image: ../dataset/test_images/6938.jpg in gallery...\n",
            "\n",
            "image: ../dataset/test_images/6938.jpg is not in the gallery, refused!\n",
            "\n"
          ],
          "name": "stdout"
        }
      ]
    },
    {
      "cell_type": "code",
      "metadata": {
        "id": "zQDAMRACQmQu",
        "colab_type": "code",
        "outputId": "efd30d9c-dc32-4192-c6f4-1a725a6f4f57",
        "colab": {
          "base_uri": "https://localhost:8080/",
          "height": 34
        }
      },
      "source": [
        "ls -l result"
      ],
      "execution_count": 0,
      "outputs": [
        {
          "output_type": "stream",
          "text": [
            "-rw-r--r-- 1 root root 996 Jul 15 05:14 result\n"
          ],
          "name": "stdout"
        }
      ]
    },
    {
      "cell_type": "code",
      "metadata": {
        "id": "9YtfuC1PYfDV",
        "colab_type": "code",
        "outputId": "902443be-08fb-4fd1-9cdd-a171a8e6561a",
        "colab": {
          "base_uri": "https://localhost:8080/",
          "height": 119
        }
      },
      "source": [
        "!more result"
      ],
      "execution_count": 0,
      "outputs": [
        {
          "output_type": "stream",
          "text": [
            "../dataset/test_images/6149.jpg is not in the gallery，refused!\n",
            "../dataset/test_images/9846.jpg is Ahmad_Masood\n",
            "../dataset/test_images/3089.jpg is Adrian_Annus\n",
            "../dataset/test_images/7953.jpg is not in the gallery，refused!\n",
            "../dataset/test_images/11476.jpg is Aaron_Eckhart\n",
            "../dataset/test_images/6938.jpg is not in the gallery，refused!\n"
          ],
          "name": "stdout"
        }
      ]
    },
    {
      "cell_type": "code",
      "metadata": {
        "id": "e91t7rmxjpwS",
        "colab_type": "code",
        "colab": {}
      },
      "source": [
        "!more test_gallery.py"
      ],
      "execution_count": 0,
      "outputs": []
    },
    {
      "cell_type": "code",
      "metadata": {
        "id": "Jc0J98fNpfMU",
        "colab_type": "code",
        "outputId": "1328df7e-8028-40e5-8fa4-a12e35ef54ea",
        "colab": {
          "base_uri": "https://localhost:8080/",
          "height": 136
        }
      },
      "source": [
        "ls -l ../dataset/test_images/"
      ],
      "execution_count": 0,
      "outputs": [
        {
          "output_type": "stream",
          "text": [
            "total 44\n",
            "-rw------- 1 root root 4576 Jul 15 05:37 11476.jpg\n",
            "-rw------- 1 root root 5458 Jul 15 05:37 3089.jpg\n",
            "-rw------- 1 root root 4111 Jul 15 05:37 6149.jpg\n",
            "-rw------- 1 root root 2850 Jul 15 05:37 6938.jpg\n",
            "-rw------- 1 root root 4984 Jul 15 05:37 7953.jpg\n",
            "-rw------- 1 root root 4886 Jul 15 05:37 9846.jpg\n"
          ],
          "name": "stdout"
        }
      ]
    }
  ]
}